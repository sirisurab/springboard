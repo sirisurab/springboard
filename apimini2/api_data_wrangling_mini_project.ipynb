{
 "cells": [
  {
   "cell_type": "markdown",
   "metadata": {},
   "source": [
    "This exercise will require you to pull some data from the Qunadl API. Qaundl is currently the most widely used aggregator of financial market data."
   ]
  },
  {
   "cell_type": "markdown",
   "metadata": {},
   "source": [
    "As a first step, you will need to register a free account on the http://www.quandl.com website."
   ]
  },
  {
   "cell_type": "markdown",
   "metadata": {},
   "source": [
    "After you register, you will be provided with a unique API key, that you should store:"
   ]
  },
  {
   "cell_type": "code",
   "execution_count": 126,
   "metadata": {},
   "outputs": [],
   "source": [
    "# Store the API key as a string - according to PEP8, constants are always named in all upper case\n",
    "API_KEY = ''"
   ]
  },
  {
   "cell_type": "markdown",
   "metadata": {},
   "source": [
    "Qaundl has a large number of data sources, but, unfortunately, most of them require a Premium subscription. Still, there are also a good number of free datasets."
   ]
  },
  {
   "cell_type": "markdown",
   "metadata": {},
   "source": [
    "For this mini project, we will focus on equities data from the Frankfurt Stock Exhange (FSE), which is available for free. We'll try and analyze the stock prices of a company called Carl Zeiss Meditec, which manufactures tools for eye examinations, as well as medical lasers for laser eye surgery: https://www.zeiss.com/meditec/int/home.html. The company is listed under the stock ticker AFX_X."
   ]
  },
  {
   "cell_type": "markdown",
   "metadata": {},
   "source": [
    "You can find the detailed Quandl API instructions here: https://docs.quandl.com/docs/time-series"
   ]
  },
  {
   "cell_type": "markdown",
   "metadata": {},
   "source": [
    "While there is a dedicated Python package for connecting to the Quandl API, we would prefer that you use the *requests* package, which can be easily downloaded using *pip* or *conda*. You can find the documentation for the package here: http://docs.python-requests.org/en/master/ "
   ]
  },
  {
   "cell_type": "markdown",
   "metadata": {},
   "source": [
    "Finally, apart from the *requests* package, you are encouraged to not use any third party Python packages, such as *pandas*, and instead focus on what's available in the Python Standard Library (the *collections* module might come in handy: https://pymotw.com/3/collections/).\n",
    "Also, since you won't have access to DataFrames, you are encouraged to us Python's native data structures - preferably dictionaries, though some questions can also be answered using lists.\n",
    "You can read more on these data structures here: https://docs.python.org/3/tutorial/datastructures.html"
   ]
  },
  {
   "cell_type": "markdown",
   "metadata": {},
   "source": [
    "Keep in mind that the JSON responses you will be getting from the API map almost one-to-one to Python's dictionaries. Unfortunately, they can be very nested, so make sure you read up on indexing dictionaries in the documentation provided above."
   ]
  },
  {
   "cell_type": "code",
   "execution_count": 127,
   "metadata": {},
   "outputs": [],
   "source": [
    "# First, import the relevant modules\n",
    "import requests"
   ]
  },
  {
   "cell_type": "code",
   "execution_count": 128,
   "metadata": {},
   "outputs": [],
   "source": [
    "# Now, call the Quandl API and pull out a small sample of the data (only one day) to get a glimpse\n",
    "# into the JSON structure that will be returned\n",
    "r = requests.get('https://www.quandl.com/api/v3/datasets/FSE/AFX_X/data.json?api_key=' + API_KEY)\n",
    "# print(r.json())"
   ]
  },
  {
   "cell_type": "code",
   "execution_count": 129,
   "metadata": {},
   "outputs": [
    {
     "name": "stdout",
     "output_type": "stream",
     "text": [
      "['Date', 'Open', 'High', 'Low', 'Close', 'Change', 'Traded Volume', 'Turnover', 'Last Price of the Day', 'Daily Traded Units', 'Daily Turnover']\n"
     ]
    }
   ],
   "source": [
    "print(r.json()['dataset_data']['column_names'])"
   ]
  },
  {
   "cell_type": "code",
   "execution_count": 130,
   "metadata": {},
   "outputs": [
    {
     "name": "stdout",
     "output_type": "stream",
     "text": [
      "[['2018-08-08', None, 68.75, 67.7, 68.65, None, 47181.0, 3225473.0, None, None, None], ['2018-08-07', None, 69.05, 67.85, 67.85, None, 55295.0, 3764837.0, None, None, None], ['2018-08-06', None, 69.8, 67.15, 68.9, None, 88362.0, 6085409.0, None, None, None], ['2018-08-03', None, 69.1, 67.3, 67.45, None, 110757.0, 7511670.0, None, None, None]]\n"
     ]
    }
   ],
   "source": [
    "# Inspect the JSON structure of the object you created, and take note of how nested it is,\n",
    "# as well as the overall structure\n",
    "print(r.json()['dataset_data']['data'][:4])"
   ]
  },
  {
   "cell_type": "markdown",
   "metadata": {},
   "source": [
    "These are your tasks for this mini project:\n",
    "\n",
    "1. Collect data from the Franfurt Stock Exchange, for the ticker AFX_X, for the whole year 2017 (keep in mind that the date format is YYYY-MM-DD).\n",
    "2. Convert the returned JSON object into a Python dictionary.\n",
    "3. Calculate what the highest and lowest opening prices were for the stock in this period.\n",
    "4. What was the largest change in any one day (based on High and Low price)?\n",
    "5. What was the largest change between any two days (based on Closing Price)?\n",
    "6. What was the average daily trading volume during this year?\n",
    "7. (Optional) What was the median trading volume during this year. (Note: you may need to implement your own function for calculating the median.)"
   ]
  },
  {
   "cell_type": "markdown",
   "metadata": {},
   "source": [
    "#### 1. Collect data from the Franfurt Stock Exchange, for the ticker AFX_X, for the whole year 2017 (keep in mind that the date format is YYYY-MM-DD)"
   ]
  },
  {
   "cell_type": "markdown",
   "metadata": {},
   "source": [
    "define parameters for request, database and dataset codes and build query url"
   ]
  },
  {
   "cell_type": "code",
   "execution_count": 131,
   "metadata": {},
   "outputs": [],
   "source": [
    "db_code = 'FSE'\n",
    "ds_code = 'AFX_X'\n",
    "start_dt = '2017-01-01'\n",
    "end_dt = '2017-12-31'\n",
    "query_url = 'https://www.quandl.com/api/v3/datasets/' \n",
    "query_url = query_url + db_code + '/' + ds_code + '/data.json?'\n",
    "query_url = query_url + 'start_date=' + start_dt + '&end_date=' + end_dt\n",
    "query_url = query_url + '&api_key=' + API_KEY"
   ]
  },
  {
   "cell_type": "markdown",
   "metadata": {},
   "source": [
    "perform get request"
   ]
  },
  {
   "cell_type": "code",
   "execution_count": 132,
   "metadata": {},
   "outputs": [],
   "source": [
    "r = requests.get(query_url)"
   ]
  },
  {
   "cell_type": "markdown",
   "metadata": {},
   "source": [
    "#### 2. Convert the returned JSON object into a Python dictionary."
   ]
  },
  {
   "cell_type": "code",
   "execution_count": 133,
   "metadata": {},
   "outputs": [],
   "source": [
    "r_json = r.json()\n",
    "data = r_json['dataset_data']['data']\n",
    "keys = r_json['dataset_data']['column_names']"
   ]
  },
  {
   "cell_type": "markdown",
   "metadata": {},
   "source": [
    "build a dictionary (r_dict indexed by a simple numeric index starting from 0 and incrementing by 1) of dictionaries (values in each nested dictionary indexed by the column names extracted in the variable keys above)"
   ]
  },
  {
   "cell_type": "code",
   "execution_count": 134,
   "metadata": {},
   "outputs": [],
   "source": [
    "r_dict = { x : dict( zip(keys,value_lst) ) for x , value_lst in enumerate(data) }"
   ]
  },
  {
   "cell_type": "code",
   "execution_count": 157,
   "metadata": {},
   "outputs": [
    {
     "name": "stdout",
     "output_type": "stream",
     "text": [
      "{'Date': '2017-12-22', 'Open': 51.05, 'High': 51.5, 'Low': 50.92, 'Close': 51.32, 'Change': None, 'Traded Volume': 71165.0, 'Turnover': 3641949.0, 'Last Price of the Day': None, 'Daily Traded Units': None, 'Daily Turnover': None}\n"
     ]
    }
   ],
   "source": [
    "# for example the fourth element of the dictionary indexed by key=3 is as follows\n",
    "print( r_dict[3] )"
   ]
  },
  {
   "cell_type": "markdown",
   "metadata": {},
   "source": [
    "#### 3. Calculate what the highest and lowest opening prices were for the stock in this period."
   ]
  },
  {
   "cell_type": "code",
   "execution_count": 136,
   "metadata": {},
   "outputs": [],
   "source": [
    "# function to get the float value of any of the numeric fields in the dictionary\n",
    "def get_float_value(d, key1, key2):\n",
    "    try:\n",
    "        return float(str(d[key1][key2]))\n",
    "    except:\n",
    "        return float(\"nan\")"
   ]
  },
  {
   "cell_type": "code",
   "execution_count": 137,
   "metadata": {},
   "outputs": [],
   "source": [
    "# fetch opening price using top level key\n",
    "get_open_price = lambda key: get_float_value(r_dict, key, 'Open')"
   ]
  },
  {
   "cell_type": "code",
   "execution_count": 158,
   "metadata": {},
   "outputs": [
    {
     "name": "stdout",
     "output_type": "stream",
     "text": [
      "highest opening price: 53.11\n",
      "lowest opening price: 34.0\n",
      "CPU times: user 0 ns, sys: 0 ns, total: 0 ns\n",
      "Wall time: 463 µs\n"
     ]
    }
   ],
   "source": [
    "%%time\n",
    "# get the top level key for the nested dictionary containing max. opening price\n",
    "max_key = max( r_dict.keys(), key = get_open_price)\n",
    "\n",
    "# get the top level key for the nested dictionary containing min. opening price\n",
    "min_key = min( r_dict.keys(), key = get_open_price)\n",
    "\n",
    "print('highest opening price: '+ str( get_open_price(max_key) ) )\n",
    "print('lowest opening price: '+ str( get_open_price(min_key) ) )"
   ]
  },
  {
   "cell_type": "markdown",
   "metadata": {},
   "source": [
    "#### 4. What was the largest change in any one day (based on High and Low price)?"
   ]
  },
  {
   "cell_type": "code",
   "execution_count": 169,
   "metadata": {},
   "outputs": [],
   "source": [
    "# fetch High price using top level key\n",
    "get_high_price = lambda key: get_float_value( r_dict, key, 'High' )\n",
    "\n",
    "# fetch Low price using top level key\n",
    "get_low_price = lambda key: get_float_value( r_dict, key, 'Low' )\n",
    "\n",
    "# calculate High - Low to get daily change in price\n",
    "get_daily_chg = lambda key: abs( get_high_price(key) - get_low_price(key) )"
   ]
  },
  {
   "cell_type": "code",
   "execution_count": 170,
   "metadata": {},
   "outputs": [
    {
     "name": "stdout",
     "output_type": "stream",
     "text": [
      "largest change in price in any one day: 2.8100000000000023\n",
      "CPU times: user 0 ns, sys: 0 ns, total: 0 ns\n",
      "Wall time: 470 µs\n"
     ]
    }
   ],
   "source": [
    "%%time\n",
    "# get the top level key for the nested dictionary containing max. daily change\n",
    "max_key = max( r_dict.keys(), key = get_daily_chg )\n",
    "\n",
    "print('largest change in price in any one day: '+ str( get_daily_chg(max_key) ) )"
   ]
  },
  {
   "cell_type": "markdown",
   "metadata": {},
   "source": [
    "#### 5. What was the largest change between any two days (based on Closing Price)?"
   ]
  },
  {
   "cell_type": "code",
   "execution_count": 141,
   "metadata": {},
   "outputs": [],
   "source": [
    "# fetch CLosing price using top level key\n",
    "get_daily_close = lambda key: get_float_value( r_dict, key, 'Close')\n",
    "\n",
    "# calculate change between consecutive days (consecutive nested dictionaries). use absolute value\n",
    "get_nextday_chg = lambda key: abs( get_daily_close(key) - get_daily_close( int(key)+1 ) )"
   ]
  },
  {
   "cell_type": "code",
   "execution_count": 160,
   "metadata": {},
   "outputs": [
    {
     "name": "stdout",
     "output_type": "stream",
     "text": [
      "largest change in price between any two days: 2.559999999999995\n",
      "CPU times: user 0 ns, sys: 0 ns, total: 0 ns\n",
      "Wall time: 478 µs\n"
     ]
    }
   ],
   "source": [
    "%%time\n",
    "# get the top level key for the nested dictionary containing max. daily change\n",
    "max_key = max( r_dict.keys(), key = get_nextday_chg )\n",
    "\n",
    "print('largest change in price between any two days: '+ str( get_nextday_chg(max_key) ) )"
   ]
  },
  {
   "cell_type": "markdown",
   "metadata": {},
   "source": [
    "#### 6. What was the average daily trading volume during this year?"
   ]
  },
  {
   "cell_type": "code",
   "execution_count": 147,
   "metadata": {},
   "outputs": [],
   "source": [
    "# function to calculate average value \n",
    "def get_avg_value( d, val_by_key ):\n",
    "    \n",
    "    # function alias for get_float_value for d and key2 = val_by_key (key1 to be bound later)\n",
    "    get_valuebykey = lambda key1: get_float_value( d = d, key1 = key1, key2 = val_by_key )    \n",
    "    \n",
    "    # calculate avg. by mapping the get_vbk_value lambda to every top level key \n",
    "    # to get the value for key=val_by_key for every record\n",
    "    # and then calculating sum and dividing by total number of records\n",
    "    return sum( map( get_valuebykey, d.keys() ) ) / len(d)"
   ]
  },
  {
   "cell_type": "code",
   "execution_count": 161,
   "metadata": {},
   "outputs": [
    {
     "name": "stdout",
     "output_type": "stream",
     "text": [
      "average daily volume: 89124.33725490196\n",
      "CPU times: user 0 ns, sys: 0 ns, total: 0 ns\n",
      "Wall time: 265 µs\n"
     ]
    }
   ],
   "source": [
    "%%time\n",
    "print('average daily volume: '+ str( get_avg_value( d = r_dict, val_by_key = 'Traded Volume') ) )"
   ]
  },
  {
   "cell_type": "markdown",
   "metadata": {},
   "source": [
    "#### 7. (Optional) What was the median trading volume during this year. (Note: you may need to implement your own function for calculating the median.)"
   ]
  },
  {
   "cell_type": "code",
   "execution_count": 145,
   "metadata": {},
   "outputs": [],
   "source": [
    "# function to calculate median value by finding the middle value after sorting by value\n",
    "def get_median_value( d, sort_by_key ):\n",
    "    length = len( d )\n",
    "    \n",
    "    # function alias for get_float_value for d and key2 = sort_by_key (key1 to be bound later)\n",
    "    get_valuebykey = lambda key1: get_float_value( d = d, key1 = key1, key2 = sort_by_key )\n",
    "    \n",
    "    # sort top level keys by the value indexed by key key2\n",
    "    sortd_kys = sorted( r_dict.keys(), key = get_valuebykey )\n",
    "    \n",
    "    if length == 0:\n",
    "        return float(\"nan\")\n",
    "    elif length % 2 == 0:\n",
    "        # mean of middle two values\n",
    "        return ( get_valuebykey( sortd_kys[ int(length/2) - 1 ] ) + get_valuebykey( sortd_kys[ int(length/2) ] ) )/2\n",
    "    else:\n",
    "        # middle value\n",
    "        return get_valuebykey( sortd_kys[ int( (length-1)/2 ) ] )"
   ]
  },
  {
   "cell_type": "code",
   "execution_count": 163,
   "metadata": {},
   "outputs": [
    {
     "name": "stdout",
     "output_type": "stream",
     "text": [
      "median daily volume: 76286.0\n",
      "CPU times: user 15.6 ms, sys: 0 ns, total: 15.6 ms\n",
      "Wall time: 292 µs\n"
     ]
    }
   ],
   "source": [
    "%%time\n",
    "# print median for daily traded volumes\n",
    "print('median daily volume: '+ str( get_median_value( d = r_dict, sort_by_key = 'Traded Volume' ) ) )"
   ]
  },
  {
   "cell_type": "code",
   "execution_count": null,
   "metadata": {},
   "outputs": [],
   "source": []
  }
 ],
 "metadata": {
  "kernelspec": {
   "display_name": "Python 3",
   "language": "python",
   "name": "python3"
  },
  "language_info": {
   "codemirror_mode": {
    "name": "ipython",
    "version": 3
   },
   "file_extension": ".py",
   "mimetype": "text/x-python",
   "name": "python",
   "nbconvert_exporter": "python",
   "pygments_lexer": "ipython3",
   "version": "3.6.5"
  }
 },
 "nbformat": 4,
 "nbformat_minor": 2
}
