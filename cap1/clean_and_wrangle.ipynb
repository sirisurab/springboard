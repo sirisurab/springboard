{
 "cells": [
  {
   "cell_type": "code",
   "execution_count": 1,
   "metadata": {},
   "outputs": [],
   "source": [
    "import pandas as pd\n",
    "import numpy as np\n",
    "import datetime as dt\n",
    "import matplotlib.pyplot as plt\n",
    "import re\n",
    "import dask.dataframe as dd\n",
    "root = 'data/'"
   ]
  },
  {
   "cell_type": "code",
   "execution_count": 2,
   "metadata": {},
   "outputs": [],
   "source": [
    "from geopandas import GeoDataFrame\n",
    "from geopandas import sjoin\n",
    "from shapely.geometry import Point\n",
    "from shapely.geometry import LineString\n",
    "from descartes.patch import PolygonPatch"
   ]
  },
  {
   "cell_type": "markdown",
   "metadata": {},
   "source": [
    "# LOAD TRANSIT STATION DATA"
   ]
  },
  {
   "cell_type": "markdown",
   "metadata": {},
   "source": [
    "Source : NYC MTA (Subway Stations Data)\n",
    "\n",
    "Description : Description of all the subway stations in NYC. Useful fields are 'STOP_NAME' (station name) and 'GTFS Latitude' and 'GTFS Longitude' (geographic coordinates of the station)\n",
    "\n",
    "Processing : This dataset has been processed by the stations.ipynb python notebook and saved to Stations_geomerged.geojson\n",
    "\n",
    "Following data issues have been addressed :\n",
    "\n",
    "1. There is no unique identifier that represents stations across the NYC MTA database : The 'STATION' column of the MTA turnstile dataset is the only identifier for the station in that set. The contents of this column differed significantly from the 'STOP_NAME' column of the stations dataset. For example, the station named 'TIMES SQ-42 ST' in one set was represented as 'Times Sq - 42 St' in the other. Although, issues like this were easy to fix, there were a fair number of cases where a station named 'Astoria - Ditmars Blvd' did not have any obvious match in the other data set. A possible cause for cases like this is the use of different station names for the same station ('Astoria - Ditmars Blvd' station was earlier known as 'Second Avenue'). Cases like this are hard, if not impossible to match. A python string-matching library called 'fuzzy-wuzzy' was used to find the best matches using 3 Levenshtein closeness ratios (normal ratio, partial ratio and token sort ratio). The match was accepted only if one of the three matching methods returned a ratio of 88% or higher. The matching station names from the trunstile dataset were added to the 'STATION' column of the stations dataset.\n",
    "\n",
    "    \n",
    "2. The columns 'GTFS Latitude' and 'GTFS Longitude' required further processing in order to be readily consumable for joins (geographic) across different datasets (for example with the traffic and taxi/cab datasets) : The python geopandas library was leveraged for this purpose (This library in turn depends on shapely, fiona and rtree). 'GTFS Latitude' and 'GTFS Longitude' were merged into a single 'Point' geometry (shapely.geometry.Point) and the entire datset converted to a geopandas GeoDataFrame. This allows for fairly easy (though sometimes computationally expensive) joins across datasets using the geometry attributes like, points, lines and polygons. A circle of customizable radius, centered at each station, was also drawn and added to a new geometry column containing the circles as polygons. These circles represent 'circles of influence' or zones for each station and will be used to find intersection with traffic and taxi/cab data."
   ]
  },
  {
   "cell_type": "code",
   "execution_count": 3,
   "metadata": {},
   "outputs": [
    {
     "data": {
      "text/html": [
       "<div>\n",
       "<style scoped>\n",
       "    .dataframe tbody tr th:only-of-type {\n",
       "        vertical-align: middle;\n",
       "    }\n",
       "\n",
       "    .dataframe tbody tr th {\n",
       "        vertical-align: top;\n",
       "    }\n",
       "\n",
       "    .dataframe thead th {\n",
       "        text-align: right;\n",
       "    }\n",
       "</style>\n",
       "<table border=\"1\" class=\"dataframe\">\n",
       "  <thead>\n",
       "    <tr style=\"text-align: right;\">\n",
       "      <th></th>\n",
       "      <th>STATION_ID</th>\n",
       "      <th>STOP_ID</th>\n",
       "      <th>STOP_NAME</th>\n",
       "      <th>BOROUGH</th>\n",
       "      <th>STATION</th>\n",
       "      <th>geometry</th>\n",
       "    </tr>\n",
       "  </thead>\n",
       "  <tbody>\n",
       "    <tr>\n",
       "      <th>0</th>\n",
       "      <td>1</td>\n",
       "      <td>R01</td>\n",
       "      <td>Astoria - Ditmars Blvd</td>\n",
       "      <td>Q</td>\n",
       "      <td>None</td>\n",
       "      <td>POLYGON ((40.785036 -73.91203400000001, 40.784...</td>\n",
       "    </tr>\n",
       "    <tr>\n",
       "      <th>1</th>\n",
       "      <td>2</td>\n",
       "      <td>R03</td>\n",
       "      <td>Astoria Blvd</td>\n",
       "      <td>Q</td>\n",
       "      <td>ASTORIA BLVD</td>\n",
       "      <td>POLYGON ((40.780258 -73.917843, 40.78020984726...</td>\n",
       "    </tr>\n",
       "    <tr>\n",
       "      <th>2</th>\n",
       "      <td>3</td>\n",
       "      <td>R04</td>\n",
       "      <td>30 Av</td>\n",
       "      <td>Q</td>\n",
       "      <td>30 AV</td>\n",
       "      <td>POLYGON ((40.776779 -73.92147900000001, 40.776...</td>\n",
       "    </tr>\n",
       "    <tr>\n",
       "      <th>3</th>\n",
       "      <td>4</td>\n",
       "      <td>R05</td>\n",
       "      <td>Broadway</td>\n",
       "      <td>Q</td>\n",
       "      <td>BROADWAY</td>\n",
       "      <td>POLYGON ((40.77182 -73.92550799999999, 40.7717...</td>\n",
       "    </tr>\n",
       "    <tr>\n",
       "      <th>4</th>\n",
       "      <td>5</td>\n",
       "      <td>R06</td>\n",
       "      <td>36 Av</td>\n",
       "      <td>Q</td>\n",
       "      <td>36 AV</td>\n",
       "      <td>POLYGON ((40.766804 -73.929575, 40.76675584726...</td>\n",
       "    </tr>\n",
       "  </tbody>\n",
       "</table>\n",
       "</div>"
      ],
      "text/plain": [
       "   STATION_ID STOP_ID               STOP_NAME BOROUGH       STATION  \\\n",
       "0           1     R01  Astoria - Ditmars Blvd       Q          None   \n",
       "1           2     R03            Astoria Blvd       Q  ASTORIA BLVD   \n",
       "2           3     R04                   30 Av       Q         30 AV   \n",
       "3           4     R05                Broadway       Q      BROADWAY   \n",
       "4           5     R06                   36 Av       Q         36 AV   \n",
       "\n",
       "                                            geometry  \n",
       "0  POLYGON ((40.785036 -73.91203400000001, 40.784...  \n",
       "1  POLYGON ((40.780258 -73.917843, 40.78020984726...  \n",
       "2  POLYGON ((40.776779 -73.92147900000001, 40.776...  \n",
       "3  POLYGON ((40.77182 -73.92550799999999, 40.7717...  \n",
       "4  POLYGON ((40.766804 -73.929575, 40.76675584726...  "
      ]
     },
     "execution_count": 3,
     "metadata": {},
     "output_type": "execute_result"
    }
   ],
   "source": [
    "file = root + 'transit/Stations_geomerged.geojson'\n",
    "geodf_stations = GeoDataFrame.from_file(file)\n",
    "geodf_stations.head()"
   ]
  },
  {
   "cell_type": "markdown",
   "metadata": {},
   "source": [
    "# LOAD AND CLEAN TRANSIT DATA"
   ]
  },
  {
   "cell_type": "markdown",
   "metadata": {},
   "source": [
    "Source : NYC MTA (Subway Stations Turnstile Data : 4-hour frequency, 2016 and 2017)\n",
    "\n",
    "Description : Transit ridership (turnstile entry and exit counts) of all the subway stations in NYC. Useful fields are 'STATION' (station name), 'DATE' (date) , 'TIME' (time) , 'ENTRIES' (entry count) , 'EXITS' (exit count)\n",
    "\n",
    "Processing : \n",
    "\n",
    "Following data issues have been addressed :\n",
    "\n",
    "1. 'DATE' and 'TIME' occur as separate string columns : These two were merged and converted to type 'datetime64[ns]'. This column was also used as the index (after the rest of cleaning was complete)\n",
    "\n",
    "\n",
    "2. 'EXITS' (and 'ENTRIES') columns have cumulative reading of the turnstile unit : the pandas.Series.diff method was used to calculate the change from the previous reading. \n",
    "\n",
    "\n",
    "3. Turnstile units would reset randomly once in a while, resulting in outliers in the 'EXITS' (and 'ENTRIES') columns (abmormally high values or negative values) : These outliers were identified and filtered out by calculating the inter-quartile range and rejecting all rows with 'EXITS' (or 'ENTRIES') with values greater that 5 times the inter-quartile range or with negative values. "
   ]
  },
  {
   "cell_type": "code",
   "execution_count": 4,
   "metadata": {},
   "outputs": [],
   "source": [
    "#taking 2 arguments date and time instead of single datetime improved performance drastically\n",
    "def parse_date(date,time):\n",
    "    return pd.to_datetime(date+time,format=\"%m/%d/%Y%H:%M:%S\", errors='coerce')\n",
    "def parse_int(exits):\n",
    "    return pd.to_numeric(exits,errors='coerce')"
   ]
  },
  {
   "cell_type": "code",
   "execution_count": 5,
   "metadata": {},
   "outputs": [],
   "source": [
    "col_func = lambda x:x.strip().upper() in ['STATION','DATE','TIME','EXITS']"
   ]
  },
  {
   "cell_type": "code",
   "execution_count": 6,
   "metadata": {},
   "outputs": [],
   "source": [
    "#consider exits and entries both or just one of them? and why?\n",
    "file = root + 'transit/all_turnstile_1617.txt'\n",
    "transit_df = pd.read_csv(file,header=0,parse_dates={'DATETIME': ['DATE','TIME']},\n",
    "                         usecols = col_func,skipinitialspace=True, low_memory=False,\n",
    "                         date_parser=parse_date)"
   ]
  },
  {
   "cell_type": "code",
   "execution_count": 7,
   "metadata": {},
   "outputs": [
    {
     "name": "stdout",
     "output_type": "stream",
     "text": [
      "<class 'pandas.core.frame.DataFrame'>\n",
      "RangeIndex: 20526873 entries, 0 to 20526872\n",
      "Data columns (total 3 columns):\n",
      "DATETIME                                                                datetime64[ns]\n",
      "STATION                                                                 object\n",
      "EXITS                                                                   object\n",
      "dtypes: datetime64[ns](1), object(2)\n",
      "memory usage: 469.8+ MB\n"
     ]
    },
    {
     "data": {
      "text/html": [
       "<div>\n",
       "<style scoped>\n",
       "    .dataframe tbody tr th:only-of-type {\n",
       "        vertical-align: middle;\n",
       "    }\n",
       "\n",
       "    .dataframe tbody tr th {\n",
       "        vertical-align: top;\n",
       "    }\n",
       "\n",
       "    .dataframe thead th {\n",
       "        text-align: right;\n",
       "    }\n",
       "</style>\n",
       "<table border=\"1\" class=\"dataframe\">\n",
       "  <thead>\n",
       "    <tr style=\"text-align: right;\">\n",
       "      <th></th>\n",
       "      <th>DATETIME</th>\n",
       "      <th>STATION</th>\n",
       "      <th>EXITS</th>\n",
       "    </tr>\n",
       "  </thead>\n",
       "  <tbody>\n",
       "    <tr>\n",
       "      <th>0</th>\n",
       "      <td>2015-12-26 03:00:00</td>\n",
       "      <td>59 ST</td>\n",
       "      <td>0001846630                                    ...</td>\n",
       "    </tr>\n",
       "    <tr>\n",
       "      <th>1</th>\n",
       "      <td>2015-12-26 07:00:00</td>\n",
       "      <td>59 ST</td>\n",
       "      <td>0001846640                                    ...</td>\n",
       "    </tr>\n",
       "    <tr>\n",
       "      <th>2</th>\n",
       "      <td>2015-12-26 11:00:00</td>\n",
       "      <td>59 ST</td>\n",
       "      <td>0001846739                                    ...</td>\n",
       "    </tr>\n",
       "    <tr>\n",
       "      <th>3</th>\n",
       "      <td>2015-12-26 15:00:00</td>\n",
       "      <td>59 ST</td>\n",
       "      <td>0001846805                                    ...</td>\n",
       "    </tr>\n",
       "    <tr>\n",
       "      <th>4</th>\n",
       "      <td>2015-12-26 19:00:00</td>\n",
       "      <td>59 ST</td>\n",
       "      <td>0001846874                                    ...</td>\n",
       "    </tr>\n",
       "  </tbody>\n",
       "</table>\n",
       "</div>"
      ],
      "text/plain": [
       "             DATETIME STATION  \\\n",
       "0 2015-12-26 03:00:00   59 ST   \n",
       "1 2015-12-26 07:00:00   59 ST   \n",
       "2 2015-12-26 11:00:00   59 ST   \n",
       "3 2015-12-26 15:00:00   59 ST   \n",
       "4 2015-12-26 19:00:00   59 ST   \n",
       "\n",
       "  EXITS                                                                 \n",
       "0  0001846630                                    ...                    \n",
       "1  0001846640                                    ...                    \n",
       "2  0001846739                                    ...                    \n",
       "3  0001846805                                    ...                    \n",
       "4  0001846874                                    ...                    "
      ]
     },
     "execution_count": 7,
     "metadata": {},
     "output_type": "execute_result"
    }
   ],
   "source": [
    "transit_df.info()\n",
    "transit_df.head()"
   ]
  },
  {
   "cell_type": "code",
   "execution_count": 8,
   "metadata": {},
   "outputs": [],
   "source": [
    "transit_df = transit_df.rename(columns=lambda x: x.strip())"
   ]
  },
  {
   "cell_type": "markdown",
   "metadata": {},
   "source": [
    "#read multiple files in a loop into dataframes and then concat them"
   ]
  },
  {
   "cell_type": "code",
   "execution_count": 9,
   "metadata": {},
   "outputs": [],
   "source": [
    "transit_df = transit_df.drop_duplicates()\n",
    "transit_df = transit_df.dropna()"
   ]
  },
  {
   "cell_type": "code",
   "execution_count": 10,
   "metadata": {},
   "outputs": [
    {
     "name": "stdout",
     "output_type": "stream",
     "text": [
      "<class 'pandas.core.frame.DataFrame'>\n",
      "DatetimeIndex: 20420523 entries, 2015-12-26 03:00:00 to 2017-12-29 20:00:00\n",
      "Data columns (total 2 columns):\n",
      "STATION    object\n",
      "EXITS      int64\n",
      "dtypes: int64(1), object(1)\n",
      "memory usage: 467.4+ MB\n"
     ]
    }
   ],
   "source": [
    "transit_df['EXITS'] = pd.to_numeric(transit_df['EXITS'],errors='coerce')\n",
    "transit_df = transit_df.set_index('DATETIME')\n",
    "transit_df.info()"
   ]
  },
  {
   "cell_type": "code",
   "execution_count": 11,
   "metadata": {},
   "outputs": [],
   "source": [
    "transit_df['DELEXITS']= transit_df['EXITS'].diff()\n",
    "#transit_df['EXITS'] = transit_df.apply(fix_exits,axis=1,iqr=intqrange)"
   ]
  },
  {
   "cell_type": "code",
   "execution_count": 12,
   "metadata": {},
   "outputs": [
    {
     "name": "stdout",
     "output_type": "stream",
     "text": [
      "<class 'pandas.core.frame.DataFrame'>\n",
      "DatetimeIndex: 20420523 entries, 2015-12-26 03:00:00 to 2017-12-29 20:00:00\n",
      "Data columns (total 3 columns):\n",
      "STATION     object\n",
      "EXITS       int64\n",
      "DELEXITS    float64\n",
      "dtypes: float64(1), int64(1), object(1)\n",
      "memory usage: 623.2+ MB\n"
     ]
    }
   ],
   "source": [
    "transit_df.info()"
   ]
  },
  {
   "cell_type": "code",
   "execution_count": 13,
   "metadata": {},
   "outputs": [],
   "source": [
    "intqrange = transit_df['DELEXITS'].quantile(0.75) - transit_df['DELEXITS'].quantile(0.25)\n",
    "discard = (transit_df['DELEXITS'] < 0) | (transit_df['DELEXITS'] > 5*intqrange)\n",
    "transit_df = transit_df.loc[~discard]\n",
    "transit_df = transit_df.dropna()"
   ]
  },
  {
   "cell_type": "code",
   "execution_count": 14,
   "metadata": {},
   "outputs": [
    {
     "name": "stdout",
     "output_type": "stream",
     "text": [
      "<class 'pandas.core.frame.DataFrame'>\n",
      "DatetimeIndex: 19364090 entries, 2015-12-26 07:00:00 to 2017-12-29 16:00:00\n",
      "Data columns (total 3 columns):\n",
      "STATION     object\n",
      "EXITS       int64\n",
      "DELEXITS    float64\n",
      "dtypes: float64(1), int64(1), object(1)\n",
      "memory usage: 590.9+ MB\n"
     ]
    }
   ],
   "source": [
    "transit_df.info()"
   ]
  },
  {
   "cell_type": "code",
   "execution_count": 15,
   "metadata": {},
   "outputs": [
    {
     "data": {
      "text/html": [
       "<div>\n",
       "<style scoped>\n",
       "    .dataframe tbody tr th:only-of-type {\n",
       "        vertical-align: middle;\n",
       "    }\n",
       "\n",
       "    .dataframe tbody tr th {\n",
       "        vertical-align: top;\n",
       "    }\n",
       "\n",
       "    .dataframe thead th {\n",
       "        text-align: right;\n",
       "    }\n",
       "</style>\n",
       "<table border=\"1\" class=\"dataframe\">\n",
       "  <thead>\n",
       "    <tr style=\"text-align: right;\">\n",
       "      <th></th>\n",
       "      <th>EXITS</th>\n",
       "      <th>DELEXITS</th>\n",
       "    </tr>\n",
       "  </thead>\n",
       "  <tbody>\n",
       "    <tr>\n",
       "      <th>count</th>\n",
       "      <td>1.936409e+07</td>\n",
       "      <td>1.936409e+07</td>\n",
       "    </tr>\n",
       "    <tr>\n",
       "      <th>mean</th>\n",
       "      <td>2.246338e+07</td>\n",
       "      <td>1.128584e+02</td>\n",
       "    </tr>\n",
       "    <tr>\n",
       "      <th>std</th>\n",
       "      <td>1.501158e+08</td>\n",
       "      <td>1.529398e+02</td>\n",
       "    </tr>\n",
       "    <tr>\n",
       "      <th>min</th>\n",
       "      <td>0.000000e+00</td>\n",
       "      <td>0.000000e+00</td>\n",
       "    </tr>\n",
       "    <tr>\n",
       "      <th>25%</th>\n",
       "      <td>2.623010e+05</td>\n",
       "      <td>8.000000e+00</td>\n",
       "    </tr>\n",
       "    <tr>\n",
       "      <th>50%</th>\n",
       "      <td>1.444191e+06</td>\n",
       "      <td>5.000000e+01</td>\n",
       "    </tr>\n",
       "    <tr>\n",
       "      <th>75%</th>\n",
       "      <td>4.487752e+06</td>\n",
       "      <td>1.540000e+02</td>\n",
       "    </tr>\n",
       "    <tr>\n",
       "      <th>max</th>\n",
       "      <td>2.140537e+09</td>\n",
       "      <td>8.100000e+02</td>\n",
       "    </tr>\n",
       "  </tbody>\n",
       "</table>\n",
       "</div>"
      ],
      "text/plain": [
       "              EXITS      DELEXITS\n",
       "count  1.936409e+07  1.936409e+07\n",
       "mean   2.246338e+07  1.128584e+02\n",
       "std    1.501158e+08  1.529398e+02\n",
       "min    0.000000e+00  0.000000e+00\n",
       "25%    2.623010e+05  8.000000e+00\n",
       "50%    1.444191e+06  5.000000e+01\n",
       "75%    4.487752e+06  1.540000e+02\n",
       "max    2.140537e+09  8.100000e+02"
      ]
     },
     "execution_count": 15,
     "metadata": {},
     "output_type": "execute_result"
    }
   ],
   "source": [
    "transit_df.describe()"
   ]
  },
  {
   "cell_type": "markdown",
   "metadata": {},
   "source": [
    "# LOAD CAB DATA"
   ]
  },
  {
   "cell_type": "markdown",
   "metadata": {},
   "source": [
    "Source : NYC TLC (Taxi and Cab Trip Data : every taxi/cab trip in NYC for 2016 and 2017)\n",
    "\n",
    "Description : Every taxi/cab trip in NYC. Useful fields are 'dropoff_datetime', 'dropoff_latitude', 'dropoff_longitude' , 'pickup_datetime', 'pickup_latitude', 'pickup_longitude', 'passenger_count'\n",
    "\n",
    "Processing :\n",
    "\n",
    "Following data issues have been addressed :\n",
    "\n",
    "1. The dataset for 2016 and 2017 is too large and called for parallel processing techniques : The python API Dask was leveraged for this. This partitions large datsets into multiple pandas DataFrames and allows for parallel processing on them.\n",
    "\n",
    "\n",
    "2. The columns 'dropoff_latitude', 'dropoff_longitude' (and 'pickup_latitude', 'pickup_longitude') required further processing in order to be readily consumable for joins (geographic) with the Stations dataset : The python geopandas library was leveraged for this purpose (This library in turn depends on shapely, fiona and rtree). 'dropoff_latitude', 'dropoff_longitude' were merged into a single 'Point' geometry (shapely.geometry.Point) and the entire datset converted to a geopandas GeoDataFrame. This allows for fairly easy (though computationally expensive in this case due to the size of the dataset) joins across datasets using the geometry attributes like, points, lines and polygons. A circle of customizable radius, centered at each station, representing the 'circles of influence' or zones for each station will be used to find intersection with taxi/cab data. (each trip will be associated with a station for the pickup point, as well as a station for the dropoff point, by finding which station-zone the points fall in)\n",
    "\n",
    "    \n",
    "The processed data is saved in parquet format (processed and saved by the cabs notebook), to enable quick reading by dask in the clean_and_wrangle notebook"
   ]
  },
  {
   "cell_type": "code",
   "execution_count": null,
   "metadata": {},
   "outputs": [
    {
     "name": "stdout",
     "output_type": "stream",
     "text": [
      "<class 'dask.dataframe.core.DataFrame'>\n",
      "Columns: 4 entries, passenger_count to STATION\n",
      "dtypes: object(1), float64(2), int64(1)"
     ]
    }
   ],
   "source": [
    "cabs_df = dd.read_parquet(root+'cabs/geojoined')\n",
    "cabs_df.info()\n",
    "cabs_df.head()"
   ]
  },
  {
   "cell_type": "markdown",
   "metadata": {},
   "source": [
    "# LOAD TRAFFIC LINK DATA"
   ]
  },
  {
   "cell_type": "markdown",
   "metadata": {},
   "source": [
    "Source : NYC Open data (Traffic Links Data)\n",
    "\n",
    "Description : Traffic Links (sets of geographic coordinates) each representing a stretch or road/street over which the average speed of traffic is recorded. Useful fields are 'LINK_ID','LINK_POINTS','BOROUGH'\n",
    "\n",
    "Processing :\n",
    "\n",
    "Following data issues have been addressed :\n",
    "\n",
    "1. The column 'LINK_POINTS' required further processing in order to be readily consumable for joins (geographic) with the Stations dataset : The python geopandas library was leveraged for this purpose (This library in turn depends on shapely, fiona and rtree). The contents of 'LINK_POINTS' were merged into a single 'LineString' geometry (shapely.geometry.LineString) and the entire datset converted to a geopandas GeoDataFrame. This allows for fairly easy joins across datasets using the geometry attributes like points, lines and polygons. \n",
    "\n",
    "\n",
    "2. Association of each 'LINK_ID' with a Station : A circle of customizable radius, centered at each station, representing the 'circles of influence' or zones for each station (represented as a Polygon geometry in the Stations dataset) was used to find intersection with traffic link data. (each link was associated with a station by finding which station-zone the link-line intersects with)\n",
    "\n",
    "    \n",
    "The processed data is saved in geojson format, to enable quick reading in the clean_and_wrangle notebook"
   ]
  },
  {
   "cell_type": "code",
   "execution_count": 2,
   "metadata": {},
   "outputs": [
    {
     "ename": "NameError",
     "evalue": "name 'root' is not defined",
     "output_type": "error",
     "traceback": [
      "\u001b[0;31m---------------------------------------------------------------------------\u001b[0m",
      "\u001b[0;31mNameError\u001b[0m                                 Traceback (most recent call last)",
      "\u001b[0;32m<ipython-input-2-8950da14aa25>\u001b[0m in \u001b[0;36m<module>\u001b[0;34m()\u001b[0m\n\u001b[0;32m----> 1\u001b[0;31m \u001b[0mfile\u001b[0m \u001b[0;34m=\u001b[0m \u001b[0mroot\u001b[0m \u001b[0;34m+\u001b[0m \u001b[0;34m'traffic/Traffic_Links_geomerged.geojson'\u001b[0m\u001b[0;34m\u001b[0m\u001b[0m\n\u001b[0m\u001b[1;32m      2\u001b[0m \u001b[0mgeodf_traffic_links\u001b[0m \u001b[0;34m=\u001b[0m \u001b[0mGeoDataFrame\u001b[0m\u001b[0;34m.\u001b[0m\u001b[0mfrom_file\u001b[0m\u001b[0;34m(\u001b[0m\u001b[0mfile\u001b[0m\u001b[0;34m)\u001b[0m\u001b[0;34m\u001b[0m\u001b[0m\n\u001b[1;32m      3\u001b[0m \u001b[0mgeodf_traffic_links\u001b[0m\u001b[0;34m.\u001b[0m\u001b[0mhead\u001b[0m\u001b[0;34m(\u001b[0m\u001b[0;34m)\u001b[0m\u001b[0;34m\u001b[0m\u001b[0m\n",
      "\u001b[0;31mNameError\u001b[0m: name 'root' is not defined"
     ]
    }
   ],
   "source": [
    "file = root + 'traffic/Traffic_Links_geomerged.geojson'\n",
    "geodf_traffic_links = GeoDataFrame.from_file(file)\n",
    "geodf_traffic_links.head()"
   ]
  },
  {
   "cell_type": "markdown",
   "metadata": {},
   "source": [
    "# LOAD AND CLEAN TRAFFIC DATA"
   ]
  },
  {
   "cell_type": "markdown",
   "metadata": {},
   "source": [
    "Source : NYC Open data (Traffic speed data Data recorded at various locations in NYC for 2016 and 2017)\n",
    "\n",
    "Description : Traffic speed data Data recorded at various locations in NYC. Useful fields are 'LINK_ID','DATETIME','SPEED'\n",
    "\n",
    "Processing :\n",
    "\n",
    "No issues found with this set so far."
   ]
  },
  {
   "cell_type": "code",
   "execution_count": 99,
   "metadata": {},
   "outputs": [
    {
     "name": "stdout",
     "output_type": "stream",
     "text": [
      "<class 'pandas.core.frame.DataFrame'>\n",
      "DatetimeIndex: 923481 entries, 2017-05-05 09:00:00 to 2017-12-31 23:00:00\n",
      "Data columns (total 2 columns):\n",
      "LINK_ID    923481 non-null int64\n",
      "SPEED      511579 non-null float64\n",
      "dtypes: float64(1), int64(1)\n",
      "memory usage: 21.1 MB\n"
     ]
    },
    {
     "data": {
      "text/html": [
       "<div>\n",
       "<style scoped>\n",
       "    .dataframe tbody tr th:only-of-type {\n",
       "        vertical-align: middle;\n",
       "    }\n",
       "\n",
       "    .dataframe tbody tr th {\n",
       "        vertical-align: top;\n",
       "    }\n",
       "\n",
       "    .dataframe thead th {\n",
       "        text-align: right;\n",
       "    }\n",
       "</style>\n",
       "<table border=\"1\" class=\"dataframe\">\n",
       "  <thead>\n",
       "    <tr style=\"text-align: right;\">\n",
       "      <th></th>\n",
       "      <th>LINK_ID</th>\n",
       "      <th>SPEED</th>\n",
       "    </tr>\n",
       "    <tr>\n",
       "      <th>DATETIME</th>\n",
       "      <th></th>\n",
       "      <th></th>\n",
       "    </tr>\n",
       "  </thead>\n",
       "  <tbody>\n",
       "    <tr>\n",
       "      <th>2017-05-05 09:00:00</th>\n",
       "      <td>4329472</td>\n",
       "      <td>8.493333</td>\n",
       "    </tr>\n",
       "    <tr>\n",
       "      <th>2017-05-05 10:00:00</th>\n",
       "      <td>4329472</td>\n",
       "      <td>7.313846</td>\n",
       "    </tr>\n",
       "    <tr>\n",
       "      <th>2017-05-05 11:00:00</th>\n",
       "      <td>4329472</td>\n",
       "      <td>22.446250</td>\n",
       "    </tr>\n",
       "    <tr>\n",
       "      <th>2017-05-05 12:00:00</th>\n",
       "      <td>4329472</td>\n",
       "      <td>28.640909</td>\n",
       "    </tr>\n",
       "    <tr>\n",
       "      <th>2017-05-05 13:00:00</th>\n",
       "      <td>4329472</td>\n",
       "      <td>25.414000</td>\n",
       "    </tr>\n",
       "  </tbody>\n",
       "</table>\n",
       "</div>"
      ],
      "text/plain": [
       "                     LINK_ID      SPEED\n",
       "DATETIME                               \n",
       "2017-05-05 09:00:00  4329472   8.493333\n",
       "2017-05-05 10:00:00  4329472   7.313846\n",
       "2017-05-05 11:00:00  4329472  22.446250\n",
       "2017-05-05 12:00:00  4329472  28.640909\n",
       "2017-05-05 13:00:00  4329472  25.414000"
      ]
     },
     "execution_count": 99,
     "metadata": {},
     "output_type": "execute_result"
    }
   ],
   "source": [
    "file = root + 'traffic/DOT_Traffic_1617_hourly.csv'\n",
    "df_traffic = pd.read_csv(file, header=None,parse_dates=[1])\n",
    "df_traffic.columns = ['LINK_ID','DATETIME','SPEED']\n",
    "#index by datetime\n",
    "df_traffic = df_traffic.set_index('DATETIME')\n",
    "df_traffic.info()\n",
    "df_traffic.head()"
   ]
  },
  {
   "cell_type": "markdown",
   "metadata": {},
   "source": [
    "# LOAD AND CLEAN WEATHER DATA"
   ]
  },
  {
   "cell_type": "markdown",
   "metadata": {},
   "source": [
    "Source : National Climatic Data Center (daily temperature, rainfall and snowfall data for NYC for 2016 and 2017)\n",
    "\n",
    "Description : Daily temperature, rainfall and snowfall data for NYC. Useful fields are 'DATE','PRCP','SNOW','TMAX','TMIN'\n",
    "\n",
    "Processing :\n",
    "\n",
    "Following data issues have been addressed :\n",
    "\n",
    "1. 'DATE' in string format : This was converted to type 'datetime64[ns]'. This column was also used as the index (after the rest of cleaning was complete)\n",
    "\n",
    "\n",
    "2. Average daily temperature : This was calculated by finding the mean of 'TMIN' and 'TMAX' and added as 'TAVG'"
   ]
  },
  {
   "cell_type": "code",
   "execution_count": 95,
   "metadata": {},
   "outputs": [],
   "source": [
    "def parse_date_3(date):\n",
    "    return pd.to_datetime(date,format=\"%Y-%m-%d\", errors='coerce')"
   ]
  },
  {
   "cell_type": "code",
   "execution_count": 96,
   "metadata": {},
   "outputs": [
    {
     "name": "stdout",
     "output_type": "stream",
     "text": [
      "<class 'pandas.core.frame.DataFrame'>\n",
      "RangeIndex: 2027 entries, 0 to 2026\n",
      "Data columns (total 5 columns):\n",
      "DATE    2027 non-null datetime64[ns]\n",
      "PRCP    2027 non-null float64\n",
      "SNOW    2027 non-null float64\n",
      "TMAX    2027 non-null int64\n",
      "TMIN    2027 non-null int64\n",
      "dtypes: datetime64[ns](1), float64(2), int64(2)\n",
      "memory usage: 79.3 KB\n"
     ]
    }
   ],
   "source": [
    "#weather data\n",
    "file = root + 'weather/1409973.csv'\n",
    "weather_df = pd.read_csv(file,header=0,parse_dates=['DATE'],\n",
    "                         usecols=['DATE','PRCP','SNOW','TMAX','TMIN'],\n",
    "                         skipinitialspace=True,\n",
    "                         date_parser=parse_date_3)\n",
    "weather_df.info()"
   ]
  },
  {
   "cell_type": "code",
   "execution_count": 97,
   "metadata": {},
   "outputs": [
    {
     "name": "stdout",
     "output_type": "stream",
     "text": [
      "<class 'pandas.core.frame.DataFrame'>\n",
      "DatetimeIndex: 731 entries, 2016-01-01 to 2017-12-31\n",
      "Data columns (total 4 columns):\n",
      "PRCP    731 non-null float64\n",
      "SNOW    731 non-null float64\n",
      "TMAX    731 non-null int64\n",
      "TMIN    731 non-null int64\n",
      "dtypes: float64(2), int64(2)\n",
      "memory usage: 28.6 KB\n"
     ]
    }
   ],
   "source": [
    "weather_df = weather_df.dropna().set_index('DATE')\n",
    "weather_df = weather_df.loc['2016-01-01':'2017-12-31']\n",
    "weather_df.info()"
   ]
  },
  {
   "cell_type": "code",
   "execution_count": 98,
   "metadata": {},
   "outputs": [],
   "source": [
    "weather_df['TAVG'] = (weather_df['TMIN'] + weather_df['TMAX']) / 2"
   ]
  },
  {
   "cell_type": "markdown",
   "metadata": {},
   "source": [
    "# LOAD AND CLEAN GAS PRICE DATA"
   ]
  },
  {
   "cell_type": "markdown",
   "metadata": {},
   "source": [
    "Source : https://www.nyserda.ny.gov (monthly gas prices for NYC for 2016 and 2017)\n",
    "\n",
    "Description : Monthly gas prices for NYC.\n",
    "\n",
    "Processing :\n",
    "\n",
    "Following data issues have been addressed :\n",
    "\n",
    "1. Each year is a different column : The dataframe was melted to create a single column called 'YEAR'. The 'MONTH' and 'YEAR' were then combined and converted to datetime and used as index."
   ]
  },
  {
   "cell_type": "code",
   "execution_count": 124,
   "metadata": {},
   "outputs": [
    {
     "name": "stdout",
     "output_type": "stream",
     "text": [
      "<class 'pandas.core.frame.DataFrame'>\n",
      "RangeIndex: 12 entries, 0 to 11\n",
      "Data columns (total 12 columns):\n",
      "Unnamed: 0    12 non-null object\n",
      "2018          6 non-null float64\n",
      "2017          12 non-null float64\n",
      "2016          12 non-null float64\n",
      "2015          12 non-null float64\n",
      "2014          12 non-null float64\n",
      "2013          12 non-null float64\n",
      "2012          12 non-null float64\n",
      "2011          12 non-null float64\n",
      "2010          12 non-null float64\n",
      "2009          12 non-null float64\n",
      "2008          12 non-null float64\n",
      "dtypes: float64(11), object(1)\n",
      "memory usage: 1.2+ KB\n"
     ]
    },
    {
     "data": {
      "text/html": [
       "<div>\n",
       "<style scoped>\n",
       "    .dataframe tbody tr th:only-of-type {\n",
       "        vertical-align: middle;\n",
       "    }\n",
       "\n",
       "    .dataframe tbody tr th {\n",
       "        vertical-align: top;\n",
       "    }\n",
       "\n",
       "    .dataframe thead th {\n",
       "        text-align: right;\n",
       "    }\n",
       "</style>\n",
       "<table border=\"1\" class=\"dataframe\">\n",
       "  <thead>\n",
       "    <tr style=\"text-align: right;\">\n",
       "      <th></th>\n",
       "      <th>Unnamed: 0</th>\n",
       "      <th>2018</th>\n",
       "      <th>2017</th>\n",
       "      <th>2016</th>\n",
       "      <th>2015</th>\n",
       "      <th>2014</th>\n",
       "      <th>2013</th>\n",
       "      <th>2012</th>\n",
       "      <th>2011</th>\n",
       "      <th>2010</th>\n",
       "      <th>2009</th>\n",
       "      <th>2008</th>\n",
       "    </tr>\n",
       "  </thead>\n",
       "  <tbody>\n",
       "    <tr>\n",
       "      <th>0</th>\n",
       "      <td>Jan</td>\n",
       "      <td>261.1</td>\n",
       "      <td>245.6</td>\n",
       "      <td>194.5</td>\n",
       "      <td>226.4</td>\n",
       "      <td>347.7</td>\n",
       "      <td>353.7</td>\n",
       "      <td>348.4</td>\n",
       "      <td>318.9</td>\n",
       "      <td>273.9</td>\n",
       "      <td>173.3</td>\n",
       "      <td>309.2</td>\n",
       "    </tr>\n",
       "    <tr>\n",
       "      <th>1</th>\n",
       "      <td>Feb</td>\n",
       "      <td>267.0</td>\n",
       "      <td>238.7</td>\n",
       "      <td>178.0</td>\n",
       "      <td>222.5</td>\n",
       "      <td>347.1</td>\n",
       "      <td>376.4</td>\n",
       "      <td>368.9</td>\n",
       "      <td>327.4</td>\n",
       "      <td>270.9</td>\n",
       "      <td>191.1</td>\n",
       "      <td>303.8</td>\n",
       "    </tr>\n",
       "    <tr>\n",
       "      <th>2</th>\n",
       "      <td>Mar</td>\n",
       "      <td>260.2</td>\n",
       "      <td>233.6</td>\n",
       "      <td>184.7</td>\n",
       "      <td>240.3</td>\n",
       "      <td>359.1</td>\n",
       "      <td>374.1</td>\n",
       "      <td>383.0</td>\n",
       "      <td>358.4</td>\n",
       "      <td>274.9</td>\n",
       "      <td>193.0</td>\n",
       "      <td>318.4</td>\n",
       "    </tr>\n",
       "    <tr>\n",
       "      <th>3</th>\n",
       "      <td>Apr</td>\n",
       "      <td>277.4</td>\n",
       "      <td>241.7</td>\n",
       "      <td>206.1</td>\n",
       "      <td>244.4</td>\n",
       "      <td>366.3</td>\n",
       "      <td>358.9</td>\n",
       "      <td>394.0</td>\n",
       "      <td>381.3</td>\n",
       "      <td>282.0</td>\n",
       "      <td>201.9</td>\n",
       "      <td>339.8</td>\n",
       "    </tr>\n",
       "    <tr>\n",
       "      <th>4</th>\n",
       "      <td>May</td>\n",
       "      <td>297.0</td>\n",
       "      <td>242.0</td>\n",
       "      <td>223.2</td>\n",
       "      <td>268.0</td>\n",
       "      <td>372.9</td>\n",
       "      <td>357.7</td>\n",
       "      <td>378.1</td>\n",
       "      <td>402.1</td>\n",
       "      <td>290.0</td>\n",
       "      <td>226.1</td>\n",
       "      <td>381.2</td>\n",
       "    </tr>\n",
       "    <tr>\n",
       "      <th>5</th>\n",
       "      <td>Jun</td>\n",
       "      <td>293.8</td>\n",
       "      <td>239.3</td>\n",
       "      <td>228.4</td>\n",
       "      <td>275.3</td>\n",
       "      <td>375.2</td>\n",
       "      <td>359.5</td>\n",
       "      <td>355.6</td>\n",
       "      <td>381.3</td>\n",
       "      <td>277.7</td>\n",
       "      <td>262.9</td>\n",
       "      <td>412.7</td>\n",
       "    </tr>\n",
       "    <tr>\n",
       "      <th>6</th>\n",
       "      <td>Jul</td>\n",
       "      <td>NaN</td>\n",
       "      <td>235.6</td>\n",
       "      <td>222.2</td>\n",
       "      <td>275.8</td>\n",
       "      <td>371.7</td>\n",
       "      <td>369.2</td>\n",
       "      <td>355.9</td>\n",
       "      <td>378.2</td>\n",
       "      <td>276.0</td>\n",
       "      <td>260.2</td>\n",
       "      <td>413.7</td>\n",
       "    </tr>\n",
       "    <tr>\n",
       "      <th>7</th>\n",
       "      <td>Aug</td>\n",
       "      <td>NaN</td>\n",
       "      <td>242.8</td>\n",
       "      <td>213.7</td>\n",
       "      <td>254.3</td>\n",
       "      <td>353.8</td>\n",
       "      <td>371.5</td>\n",
       "      <td>379.0</td>\n",
       "      <td>377.3</td>\n",
       "      <td>272.0</td>\n",
       "      <td>266.7</td>\n",
       "      <td>382.8</td>\n",
       "    </tr>\n",
       "    <tr>\n",
       "      <th>8</th>\n",
       "      <td>Sep</td>\n",
       "      <td>NaN</td>\n",
       "      <td>276.1</td>\n",
       "      <td>215.7</td>\n",
       "      <td>227.0</td>\n",
       "      <td>342.5</td>\n",
       "      <td>363.9</td>\n",
       "      <td>392.3</td>\n",
       "      <td>369.7</td>\n",
       "      <td>264.8</td>\n",
       "      <td>262.2</td>\n",
       "      <td>360.6</td>\n",
       "    </tr>\n",
       "    <tr>\n",
       "      <th>9</th>\n",
       "      <td>Oct</td>\n",
       "      <td>NaN</td>\n",
       "      <td>255.8</td>\n",
       "      <td>218.5</td>\n",
       "      <td>214.8</td>\n",
       "      <td>323.6</td>\n",
       "      <td>341.5</td>\n",
       "      <td>386.3</td>\n",
       "      <td>352.6</td>\n",
       "      <td>281.2</td>\n",
       "      <td>254.9</td>\n",
       "      <td>305.8</td>\n",
       "    </tr>\n",
       "    <tr>\n",
       "      <th>10</th>\n",
       "      <td>Nov</td>\n",
       "      <td>NaN</td>\n",
       "      <td>259.6</td>\n",
       "      <td>229.0</td>\n",
       "      <td>212.9</td>\n",
       "      <td>300.9</td>\n",
       "      <td>337.0</td>\n",
       "      <td>370.9</td>\n",
       "      <td>346.0</td>\n",
       "      <td>295.3</td>\n",
       "      <td>268.6</td>\n",
       "      <td>228.7</td>\n",
       "    </tr>\n",
       "    <tr>\n",
       "      <th>11</th>\n",
       "      <td>Dec</td>\n",
       "      <td>NaN</td>\n",
       "      <td>254.5</td>\n",
       "      <td>236.1</td>\n",
       "      <td>206.4</td>\n",
       "      <td>272.3</td>\n",
       "      <td>349.3</td>\n",
       "      <td>356.8</td>\n",
       "      <td>335.0</td>\n",
       "      <td>311.2</td>\n",
       "      <td>265.6</td>\n",
       "      <td>177.8</td>\n",
       "    </tr>\n",
       "  </tbody>\n",
       "</table>\n",
       "</div>"
      ],
      "text/plain": [
       "   Unnamed: 0   2018   2017   2016   2015   2014   2013   2012   2011   2010  \\\n",
       "0         Jan  261.1  245.6  194.5  226.4  347.7  353.7  348.4  318.9  273.9   \n",
       "1         Feb  267.0  238.7  178.0  222.5  347.1  376.4  368.9  327.4  270.9   \n",
       "2         Mar  260.2  233.6  184.7  240.3  359.1  374.1  383.0  358.4  274.9   \n",
       "3         Apr  277.4  241.7  206.1  244.4  366.3  358.9  394.0  381.3  282.0   \n",
       "4         May  297.0  242.0  223.2  268.0  372.9  357.7  378.1  402.1  290.0   \n",
       "5         Jun  293.8  239.3  228.4  275.3  375.2  359.5  355.6  381.3  277.7   \n",
       "6         Jul    NaN  235.6  222.2  275.8  371.7  369.2  355.9  378.2  276.0   \n",
       "7         Aug    NaN  242.8  213.7  254.3  353.8  371.5  379.0  377.3  272.0   \n",
       "8         Sep    NaN  276.1  215.7  227.0  342.5  363.9  392.3  369.7  264.8   \n",
       "9         Oct    NaN  255.8  218.5  214.8  323.6  341.5  386.3  352.6  281.2   \n",
       "10        Nov    NaN  259.6  229.0  212.9  300.9  337.0  370.9  346.0  295.3   \n",
       "11        Dec    NaN  254.5  236.1  206.4  272.3  349.3  356.8  335.0  311.2   \n",
       "\n",
       "     2009   2008  \n",
       "0   173.3  309.2  \n",
       "1   191.1  303.8  \n",
       "2   193.0  318.4  \n",
       "3   201.9  339.8  \n",
       "4   226.1  381.2  \n",
       "5   262.9  412.7  \n",
       "6   260.2  413.7  \n",
       "7   266.7  382.8  \n",
       "8   262.2  360.6  \n",
       "9   254.9  305.8  \n",
       "10  268.6  228.7  \n",
       "11  265.6  177.8  "
      ]
     },
     "execution_count": 124,
     "metadata": {},
     "output_type": "execute_result"
    }
   ],
   "source": [
    "file = root + 'gas/2018-2008_monthly_gas_NYC.csv'\n",
    "gas_df = pd.read_csv(file, header=0, skipinitialspace=True)\n",
    "gas_df.info()\n",
    "gas_df"
   ]
  },
  {
   "cell_type": "code",
   "execution_count": 125,
   "metadata": {},
   "outputs": [
    {
     "data": {
      "text/plain": [
       "Index(['MONTH', '2018', '2017', '2016', '2015', '2014', '2013', '2012', '2011',\n",
       "       '2010', '2009', '2008'],\n",
       "      dtype='object')"
      ]
     },
     "execution_count": 125,
     "metadata": {},
     "output_type": "execute_result"
    }
   ],
   "source": [
    "gas_df = gas_df.rename(columns={'Unnamed: 0':'MONTH'})\n",
    "gas_df.columns"
   ]
  },
  {
   "cell_type": "code",
   "execution_count": 126,
   "metadata": {},
   "outputs": [
    {
     "data": {
      "text/html": [
       "<div>\n",
       "<style scoped>\n",
       "    .dataframe tbody tr th:only-of-type {\n",
       "        vertical-align: middle;\n",
       "    }\n",
       "\n",
       "    .dataframe tbody tr th {\n",
       "        vertical-align: top;\n",
       "    }\n",
       "\n",
       "    .dataframe thead th {\n",
       "        text-align: right;\n",
       "    }\n",
       "</style>\n",
       "<table border=\"1\" class=\"dataframe\">\n",
       "  <thead>\n",
       "    <tr style=\"text-align: right;\">\n",
       "      <th></th>\n",
       "      <th>MONTH</th>\n",
       "      <th>YEAR</th>\n",
       "      <th>PRICE</th>\n",
       "    </tr>\n",
       "  </thead>\n",
       "  <tbody>\n",
       "    <tr>\n",
       "      <th>0</th>\n",
       "      <td>Jan</td>\n",
       "      <td>2018</td>\n",
       "      <td>261.1</td>\n",
       "    </tr>\n",
       "    <tr>\n",
       "      <th>1</th>\n",
       "      <td>Feb</td>\n",
       "      <td>2018</td>\n",
       "      <td>267.0</td>\n",
       "    </tr>\n",
       "    <tr>\n",
       "      <th>2</th>\n",
       "      <td>Mar</td>\n",
       "      <td>2018</td>\n",
       "      <td>260.2</td>\n",
       "    </tr>\n",
       "    <tr>\n",
       "      <th>3</th>\n",
       "      <td>Apr</td>\n",
       "      <td>2018</td>\n",
       "      <td>277.4</td>\n",
       "    </tr>\n",
       "    <tr>\n",
       "      <th>4</th>\n",
       "      <td>May</td>\n",
       "      <td>2018</td>\n",
       "      <td>297.0</td>\n",
       "    </tr>\n",
       "  </tbody>\n",
       "</table>\n",
       "</div>"
      ],
      "text/plain": [
       "  MONTH  YEAR  PRICE\n",
       "0   Jan  2018  261.1\n",
       "1   Feb  2018  267.0\n",
       "2   Mar  2018  260.2\n",
       "3   Apr  2018  277.4\n",
       "4   May  2018  297.0"
      ]
     },
     "execution_count": 126,
     "metadata": {},
     "output_type": "execute_result"
    }
   ],
   "source": [
    "gas_df = gas_df.melt(id_vars=['MONTH'],var_name='YEAR',value_name='PRICE')\n",
    "gas_df.head()"
   ]
  },
  {
   "cell_type": "code",
   "execution_count": 127,
   "metadata": {},
   "outputs": [
    {
     "data": {
      "text/html": [
       "<div>\n",
       "<style scoped>\n",
       "    .dataframe tbody tr th:only-of-type {\n",
       "        vertical-align: middle;\n",
       "    }\n",
       "\n",
       "    .dataframe tbody tr th {\n",
       "        vertical-align: top;\n",
       "    }\n",
       "\n",
       "    .dataframe thead th {\n",
       "        text-align: right;\n",
       "    }\n",
       "</style>\n",
       "<table border=\"1\" class=\"dataframe\">\n",
       "  <thead>\n",
       "    <tr style=\"text-align: right;\">\n",
       "      <th></th>\n",
       "      <th>MONTH</th>\n",
       "      <th>PRICE</th>\n",
       "    </tr>\n",
       "  </thead>\n",
       "  <tbody>\n",
       "    <tr>\n",
       "      <th>0</th>\n",
       "      <td>2018-01-01</td>\n",
       "      <td>261.1</td>\n",
       "    </tr>\n",
       "    <tr>\n",
       "      <th>1</th>\n",
       "      <td>2018-02-01</td>\n",
       "      <td>267.0</td>\n",
       "    </tr>\n",
       "    <tr>\n",
       "      <th>2</th>\n",
       "      <td>2018-03-01</td>\n",
       "      <td>260.2</td>\n",
       "    </tr>\n",
       "    <tr>\n",
       "      <th>3</th>\n",
       "      <td>2018-04-01</td>\n",
       "      <td>277.4</td>\n",
       "    </tr>\n",
       "    <tr>\n",
       "      <th>4</th>\n",
       "      <td>2018-05-01</td>\n",
       "      <td>297.0</td>\n",
       "    </tr>\n",
       "  </tbody>\n",
       "</table>\n",
       "</div>"
      ],
      "text/plain": [
       "       MONTH  PRICE\n",
       "0 2018-01-01  261.1\n",
       "1 2018-02-01  267.0\n",
       "2 2018-03-01  260.2\n",
       "3 2018-04-01  277.4\n",
       "4 2018-05-01  297.0"
      ]
     },
     "execution_count": 127,
     "metadata": {},
     "output_type": "execute_result"
    }
   ],
   "source": [
    "gas_df['MONTH'] = pd.to_datetime(gas_df['MONTH']+'-'+gas_df['YEAR'],format='%b-%Y')\n",
    "del gas_df['YEAR']\n",
    "\n",
    "gas_df.head()"
   ]
  },
  {
   "cell_type": "code",
   "execution_count": 128,
   "metadata": {},
   "outputs": [
    {
     "data": {
      "text/html": [
       "<div>\n",
       "<style scoped>\n",
       "    .dataframe tbody tr th:only-of-type {\n",
       "        vertical-align: middle;\n",
       "    }\n",
       "\n",
       "    .dataframe tbody tr th {\n",
       "        vertical-align: top;\n",
       "    }\n",
       "\n",
       "    .dataframe thead th {\n",
       "        text-align: right;\n",
       "    }\n",
       "</style>\n",
       "<table border=\"1\" class=\"dataframe\">\n",
       "  <thead>\n",
       "    <tr style=\"text-align: right;\">\n",
       "      <th></th>\n",
       "      <th>PRICE</th>\n",
       "    </tr>\n",
       "    <tr>\n",
       "      <th>MONTH</th>\n",
       "      <th></th>\n",
       "    </tr>\n",
       "  </thead>\n",
       "  <tbody>\n",
       "    <tr>\n",
       "      <th>2018-01-01</th>\n",
       "      <td>261.1</td>\n",
       "    </tr>\n",
       "    <tr>\n",
       "      <th>2018-02-01</th>\n",
       "      <td>267.0</td>\n",
       "    </tr>\n",
       "    <tr>\n",
       "      <th>2018-03-01</th>\n",
       "      <td>260.2</td>\n",
       "    </tr>\n",
       "    <tr>\n",
       "      <th>2018-04-01</th>\n",
       "      <td>277.4</td>\n",
       "    </tr>\n",
       "    <tr>\n",
       "      <th>2018-05-01</th>\n",
       "      <td>297.0</td>\n",
       "    </tr>\n",
       "  </tbody>\n",
       "</table>\n",
       "</div>"
      ],
      "text/plain": [
       "            PRICE\n",
       "MONTH            \n",
       "2018-01-01  261.1\n",
       "2018-02-01  267.0\n",
       "2018-03-01  260.2\n",
       "2018-04-01  277.4\n",
       "2018-05-01  297.0"
      ]
     },
     "execution_count": 128,
     "metadata": {},
     "output_type": "execute_result"
    }
   ],
   "source": [
    "gas_df = gas_df.set_index('MONTH')\n",
    "gas_df.head()"
   ]
  },
  {
   "cell_type": "code",
   "execution_count": 129,
   "metadata": {},
   "outputs": [
    {
     "data": {
      "text/html": [
       "<div>\n",
       "<style scoped>\n",
       "    .dataframe tbody tr th:only-of-type {\n",
       "        vertical-align: middle;\n",
       "    }\n",
       "\n",
       "    .dataframe tbody tr th {\n",
       "        vertical-align: top;\n",
       "    }\n",
       "\n",
       "    .dataframe thead th {\n",
       "        text-align: right;\n",
       "    }\n",
       "</style>\n",
       "<table border=\"1\" class=\"dataframe\">\n",
       "  <thead>\n",
       "    <tr style=\"text-align: right;\">\n",
       "      <th></th>\n",
       "      <th>PRICE</th>\n",
       "    </tr>\n",
       "    <tr>\n",
       "      <th>MONTH</th>\n",
       "      <th></th>\n",
       "    </tr>\n",
       "  </thead>\n",
       "  <tbody>\n",
       "    <tr>\n",
       "      <th>2016-01-01</th>\n",
       "      <td>194.5</td>\n",
       "    </tr>\n",
       "    <tr>\n",
       "      <th>2016-02-01</th>\n",
       "      <td>178.0</td>\n",
       "    </tr>\n",
       "    <tr>\n",
       "      <th>2016-03-01</th>\n",
       "      <td>184.7</td>\n",
       "    </tr>\n",
       "    <tr>\n",
       "      <th>2016-04-01</th>\n",
       "      <td>206.1</td>\n",
       "    </tr>\n",
       "    <tr>\n",
       "      <th>2016-05-01</th>\n",
       "      <td>223.2</td>\n",
       "    </tr>\n",
       "  </tbody>\n",
       "</table>\n",
       "</div>"
      ],
      "text/plain": [
       "            PRICE\n",
       "MONTH            \n",
       "2016-01-01  194.5\n",
       "2016-02-01  178.0\n",
       "2016-03-01  184.7\n",
       "2016-04-01  206.1\n",
       "2016-05-01  223.2"
      ]
     },
     "execution_count": 129,
     "metadata": {},
     "output_type": "execute_result"
    }
   ],
   "source": [
    "gas_df = gas_df.sort_index().loc['2016-01-01':'2017-12-31']\n",
    "gas_df.head()"
   ]
  },
  {
   "cell_type": "markdown",
   "metadata": {},
   "source": [
    "# FILTER ALL TIME SERIES DATASETS BY DAY OF WEEK AND RESAMPLE"
   ]
  },
  {
   "cell_type": "markdown",
   "metadata": {},
   "source": [
    "Wrangling of each of the time series datasets created/loaded above :\n",
    "\n",
    "1. Filter by day of the week : The time-series datasets for transit, traffic, cabs and weather were filtered by day of the week (this is because of the fact that datasets like transit and traffic, for instance, would have different patterns on weekdays than on weekends and it therefore makes sense to seperate out and compare trends by day of the week)\n",
    "\n",
    "    \n",
    "2. Aggregate the filtered data over 1 month window : All time-series datasets (except gas which is already aggregated by month), were resampled using frequency = '1M' and aggregated using mean, median or sum functions"
   ]
  },
  {
   "cell_type": "code",
   "execution_count": 1,
   "metadata": {},
   "outputs": [
    {
     "ename": "NameError",
     "evalue": "name 'transit_df_merged' is not defined",
     "output_type": "error",
     "traceback": [
      "\u001b[0;31m---------------------------------------------------------------------------\u001b[0m",
      "\u001b[0;31mNameError\u001b[0m                                 Traceback (most recent call last)",
      "\u001b[0;32m<ipython-input-1-9b07200d7a55>\u001b[0m in \u001b[0;36m<module>\u001b[0;34m()\u001b[0m\n\u001b[1;32m      2\u001b[0m \u001b[0mweekday\u001b[0m \u001b[0;34m=\u001b[0m \u001b[0;36m2\u001b[0m\u001b[0;34m\u001b[0m\u001b[0m\n\u001b[1;32m      3\u001b[0m \u001b[0;34m\u001b[0m\u001b[0m\n\u001b[0;32m----> 4\u001b[0;31m \u001b[0mtransit_df_byday\u001b[0m \u001b[0;34m=\u001b[0m \u001b[0mtransit_df_merged\u001b[0m\u001b[0;34m.\u001b[0m\u001b[0mloc\u001b[0m\u001b[0;34m[\u001b[0m\u001b[0mtransit_df_merged\u001b[0m\u001b[0;34m.\u001b[0m\u001b[0mindex\u001b[0m\u001b[0;34m.\u001b[0m\u001b[0mweekday\u001b[0m\u001b[0;34m==\u001b[0m\u001b[0mweekday\u001b[0m\u001b[0;34m]\u001b[0m\u001b[0;34m\u001b[0m\u001b[0m\n\u001b[0m\u001b[1;32m      5\u001b[0m \u001b[0mtransit_df_byday\u001b[0m\u001b[0;34m.\u001b[0m\u001b[0minfo\u001b[0m\u001b[0;34m(\u001b[0m\u001b[0;34m)\u001b[0m\u001b[0;34m\u001b[0m\u001b[0m\n\u001b[1;32m      6\u001b[0m \u001b[0mtransit_df_byday\u001b[0m\u001b[0;34m.\u001b[0m\u001b[0mhead\u001b[0m\u001b[0;34m(\u001b[0m\u001b[0;34m)\u001b[0m\u001b[0;34m\u001b[0m\u001b[0m\n",
      "\u001b[0;31mNameError\u001b[0m: name 'transit_df_merged' is not defined"
     ]
    }
   ],
   "source": [
    "#week day\n",
    "weekday = 2\n",
    "\n",
    "transit_df_byday = transit_df_merged.loc[transit_df_merged.index.weekday==weekday]\n",
    "transit_df_byday.info()\n",
    "transit_df_byday.head()"
   ]
  },
  {
   "cell_type": "code",
   "execution_count": 115,
   "metadata": {},
   "outputs": [
    {
     "name": "stdout",
     "output_type": "stream",
     "text": [
      "<class 'pandas.core.frame.DataFrame'>\n",
      "MultiIndex: 7915 entries, (2015-12-31 00:00:00, 1 Av) to (2017-12-31 00:00:00, Zerega Av)\n",
      "Data columns (total 2 columns):\n",
      "EXITS       7915 non-null int64\n",
      "DELEXITS    7915 non-null float64\n",
      "dtypes: float64(1), int64(1)\n",
      "memory usage: 149.7+ KB\n"
     ]
    },
    {
     "data": {
      "text/html": [
       "<div>\n",
       "<style scoped>\n",
       "    .dataframe tbody tr th:only-of-type {\n",
       "        vertical-align: middle;\n",
       "    }\n",
       "\n",
       "    .dataframe tbody tr th {\n",
       "        vertical-align: top;\n",
       "    }\n",
       "\n",
       "    .dataframe thead th {\n",
       "        text-align: right;\n",
       "    }\n",
       "</style>\n",
       "<table border=\"1\" class=\"dataframe\">\n",
       "  <thead>\n",
       "    <tr style=\"text-align: right;\">\n",
       "      <th></th>\n",
       "      <th></th>\n",
       "      <th>EXITS</th>\n",
       "      <th>DELEXITS</th>\n",
       "    </tr>\n",
       "    <tr>\n",
       "      <th>DATETIME</th>\n",
       "      <th>FUZZY_STATION</th>\n",
       "      <th></th>\n",
       "      <th></th>\n",
       "    </tr>\n",
       "  </thead>\n",
       "  <tbody>\n",
       "    <tr>\n",
       "      <th>2015-12-31</th>\n",
       "      <th>1 Av</th>\n",
       "      <td>8713408891</td>\n",
       "      <td>12187.0</td>\n",
       "    </tr>\n",
       "    <tr>\n",
       "      <th>2016-01-31</th>\n",
       "      <th>1 Av</th>\n",
       "      <td>31723420322</td>\n",
       "      <td>41172.0</td>\n",
       "    </tr>\n",
       "    <tr>\n",
       "      <th>2016-02-29</th>\n",
       "      <th>1 Av</th>\n",
       "      <td>31768845053</td>\n",
       "      <td>42989.0</td>\n",
       "    </tr>\n",
       "    <tr>\n",
       "      <th>2016-03-31</th>\n",
       "      <th>1 Av</th>\n",
       "      <td>42124791060</td>\n",
       "      <td>48218.0</td>\n",
       "    </tr>\n",
       "    <tr>\n",
       "      <th>2016-04-30</th>\n",
       "      <th>1 Av</th>\n",
       "      <td>34636336475</td>\n",
       "      <td>40406.0</td>\n",
       "    </tr>\n",
       "  </tbody>\n",
       "</table>\n",
       "</div>"
      ],
      "text/plain": [
       "                                EXITS  DELEXITS\n",
       "DATETIME   FUZZY_STATION                       \n",
       "2015-12-31 1 Av            8713408891   12187.0\n",
       "2016-01-31 1 Av           31723420322   41172.0\n",
       "2016-02-29 1 Av           31768845053   42989.0\n",
       "2016-03-31 1 Av           42124791060   48218.0\n",
       "2016-04-30 1 Av           34636336475   40406.0"
      ]
     },
     "execution_count": 115,
     "metadata": {},
     "output_type": "execute_result"
    }
   ],
   "source": [
    "#transit_df_rsmpld = transit_df.reset_index().set_index('DATETIME').resample('1D',how='sum')\n",
    "transit_df_rsmpld = transit_df_byday.reset_index().groupby('FUZZY_STATION').apply(lambda x: x.set_index('DATETIME').resample('1M').sum()).swaplevel(1,0)\n",
    "transit_df_rsmpld.info()\n",
    "transit_df_rsmpld.head()"
   ]
  },
  {
   "cell_type": "code",
   "execution_count": 116,
   "metadata": {},
   "outputs": [
    {
     "name": "stdout",
     "output_type": "stream",
     "text": [
      "<class 'pandas.core.frame.DataFrame'>\n",
      "MultiIndex: 7600 entries, (2016-01-31 00:00:00, 1 Av) to (2017-12-31 00:00:00, Zerega Av)\n",
      "Data columns (total 2 columns):\n",
      "EXITS       7600 non-null int64\n",
      "DELEXITS    7600 non-null float64\n",
      "dtypes: float64(1), int64(1)\n",
      "memory usage: 143.8+ KB\n"
     ]
    },
    {
     "data": {
      "text/html": [
       "<div>\n",
       "<style scoped>\n",
       "    .dataframe tbody tr th:only-of-type {\n",
       "        vertical-align: middle;\n",
       "    }\n",
       "\n",
       "    .dataframe tbody tr th {\n",
       "        vertical-align: top;\n",
       "    }\n",
       "\n",
       "    .dataframe thead th {\n",
       "        text-align: right;\n",
       "    }\n",
       "</style>\n",
       "<table border=\"1\" class=\"dataframe\">\n",
       "  <thead>\n",
       "    <tr style=\"text-align: right;\">\n",
       "      <th></th>\n",
       "      <th></th>\n",
       "      <th>EXITS</th>\n",
       "      <th>DELEXITS</th>\n",
       "    </tr>\n",
       "    <tr>\n",
       "      <th>DATETIME</th>\n",
       "      <th>FUZZY_STATION</th>\n",
       "      <th></th>\n",
       "      <th></th>\n",
       "    </tr>\n",
       "  </thead>\n",
       "  <tbody>\n",
       "    <tr>\n",
       "      <th rowspan=\"5\" valign=\"top\">2016-01-31</th>\n",
       "      <th>1 Av</th>\n",
       "      <td>31723420322</td>\n",
       "      <td>41172.0</td>\n",
       "    </tr>\n",
       "    <tr>\n",
       "      <th>103 St</th>\n",
       "      <td>19714566035</td>\n",
       "      <td>120605.0</td>\n",
       "    </tr>\n",
       "    <tr>\n",
       "      <th>104 St</th>\n",
       "      <td>25959775845</td>\n",
       "      <td>7565.0</td>\n",
       "    </tr>\n",
       "    <tr>\n",
       "      <th>110 St</th>\n",
       "      <td>619844014</td>\n",
       "      <td>35514.0</td>\n",
       "    </tr>\n",
       "    <tr>\n",
       "      <th>111 St</th>\n",
       "      <td>1295305410</td>\n",
       "      <td>36746.0</td>\n",
       "    </tr>\n",
       "  </tbody>\n",
       "</table>\n",
       "</div>"
      ],
      "text/plain": [
       "                                EXITS  DELEXITS\n",
       "DATETIME   FUZZY_STATION                       \n",
       "2016-01-31 1 Av           31723420322   41172.0\n",
       "           103 St         19714566035  120605.0\n",
       "           104 St         25959775845    7565.0\n",
       "           110 St           619844014   35514.0\n",
       "           111 St          1295305410   36746.0"
      ]
     },
     "execution_count": 116,
     "metadata": {},
     "output_type": "execute_result"
    }
   ],
   "source": [
    "idx = pd.IndexSlice\n",
    "transit_df_rsmpld = transit_df_rsmpld.sort_index().loc[idx['2016-01-01':'2017-12-31',:],:].sort_index()\n",
    "transit_df_rsmpld.info()\n",
    "transit_df_rsmpld.head()"
   ]
  },
  {
   "cell_type": "code",
   "execution_count": 143,
   "metadata": {},
   "outputs": [
    {
     "name": "stdout",
     "output_type": "stream",
     "text": [
      "<class 'pandas.core.frame.DataFrame'>\n",
      "DatetimeIndex: 78274 entries, 2017-05-17 07:00:00 to 2017-12-27 23:00:00\n",
      "Data columns (total 2 columns):\n",
      "LINK_ID    78274 non-null int64\n",
      "SPEED      78274 non-null float64\n",
      "dtypes: float64(1), int64(1)\n",
      "memory usage: 1.8 MB\n"
     ]
    },
    {
     "data": {
      "text/html": [
       "<div>\n",
       "<style scoped>\n",
       "    .dataframe tbody tr th:only-of-type {\n",
       "        vertical-align: middle;\n",
       "    }\n",
       "\n",
       "    .dataframe tbody tr th {\n",
       "        vertical-align: top;\n",
       "    }\n",
       "\n",
       "    .dataframe thead th {\n",
       "        text-align: right;\n",
       "    }\n",
       "</style>\n",
       "<table border=\"1\" class=\"dataframe\">\n",
       "  <thead>\n",
       "    <tr style=\"text-align: right;\">\n",
       "      <th></th>\n",
       "      <th>LINK_ID</th>\n",
       "      <th>SPEED</th>\n",
       "    </tr>\n",
       "    <tr>\n",
       "      <th>DATETIME</th>\n",
       "      <th></th>\n",
       "      <th></th>\n",
       "    </tr>\n",
       "  </thead>\n",
       "  <tbody>\n",
       "    <tr>\n",
       "      <th>2017-05-17 07:00:00</th>\n",
       "      <td>4329472</td>\n",
       "      <td>12.426667</td>\n",
       "    </tr>\n",
       "    <tr>\n",
       "      <th>2017-05-17 08:00:00</th>\n",
       "      <td>4329472</td>\n",
       "      <td>10.097500</td>\n",
       "    </tr>\n",
       "    <tr>\n",
       "      <th>2017-05-17 09:00:00</th>\n",
       "      <td>4329472</td>\n",
       "      <td>8.813636</td>\n",
       "    </tr>\n",
       "    <tr>\n",
       "      <th>2017-05-17 10:00:00</th>\n",
       "      <td>4329472</td>\n",
       "      <td>6.700000</td>\n",
       "    </tr>\n",
       "    <tr>\n",
       "      <th>2017-05-17 11:00:00</th>\n",
       "      <td>4329472</td>\n",
       "      <td>7.740000</td>\n",
       "    </tr>\n",
       "  </tbody>\n",
       "</table>\n",
       "</div>"
      ],
      "text/plain": [
       "                     LINK_ID      SPEED\n",
       "DATETIME                               \n",
       "2017-05-17 07:00:00  4329472  12.426667\n",
       "2017-05-17 08:00:00  4329472  10.097500\n",
       "2017-05-17 09:00:00  4329472   8.813636\n",
       "2017-05-17 10:00:00  4329472   6.700000\n",
       "2017-05-17 11:00:00  4329472   7.740000"
      ]
     },
     "execution_count": 143,
     "metadata": {},
     "output_type": "execute_result"
    }
   ],
   "source": [
    "#weekday = 2\n",
    "traffic_df = df_traffic.dropna()\n",
    "traffic_df_byday = traffic_df.loc[traffic_df.index.weekday==weekday]\n",
    "traffic_df_byday.info()\n",
    "traffic_df_byday.head()"
   ]
  },
  {
   "cell_type": "code",
   "execution_count": 144,
   "metadata": {},
   "outputs": [
    {
     "name": "stdout",
     "output_type": "stream",
     "text": [
      "<class 'pandas.core.frame.DataFrame'>\n",
      "MultiIndex: 1202 entries, (2017-05-31 00:00:00, 4329472) to (2017-12-31 00:00:00, 4763657)\n",
      "Data columns (total 2 columns):\n",
      "LINK_ID    1054 non-null float64\n",
      "SPEED      1054 non-null float64\n",
      "dtypes: float64(2)\n",
      "memory usage: 23.6 KB\n"
     ]
    },
    {
     "data": {
      "text/html": [
       "<div>\n",
       "<style scoped>\n",
       "    .dataframe tbody tr th:only-of-type {\n",
       "        vertical-align: middle;\n",
       "    }\n",
       "\n",
       "    .dataframe tbody tr th {\n",
       "        vertical-align: top;\n",
       "    }\n",
       "\n",
       "    .dataframe thead th {\n",
       "        text-align: right;\n",
       "    }\n",
       "</style>\n",
       "<table border=\"1\" class=\"dataframe\">\n",
       "  <thead>\n",
       "    <tr style=\"text-align: right;\">\n",
       "      <th></th>\n",
       "      <th></th>\n",
       "      <th>LINK_ID</th>\n",
       "      <th>SPEED</th>\n",
       "    </tr>\n",
       "    <tr>\n",
       "      <th>DATETIME</th>\n",
       "      <th>LINK_ID</th>\n",
       "      <th></th>\n",
       "      <th></th>\n",
       "    </tr>\n",
       "  </thead>\n",
       "  <tbody>\n",
       "    <tr>\n",
       "      <th>2017-05-31</th>\n",
       "      <th>4329472</th>\n",
       "      <td>4329472.0</td>\n",
       "      <td>13.952727</td>\n",
       "    </tr>\n",
       "    <tr>\n",
       "      <th>2017-06-30</th>\n",
       "      <th>4329472</th>\n",
       "      <td>4329472.0</td>\n",
       "      <td>13.384615</td>\n",
       "    </tr>\n",
       "    <tr>\n",
       "      <th>2017-07-31</th>\n",
       "      <th>4329472</th>\n",
       "      <td>4329472.0</td>\n",
       "      <td>15.759091</td>\n",
       "    </tr>\n",
       "    <tr>\n",
       "      <th>2017-08-31</th>\n",
       "      <th>4329472</th>\n",
       "      <td>4329472.0</td>\n",
       "      <td>25.525417</td>\n",
       "    </tr>\n",
       "    <tr>\n",
       "      <th>2017-09-30</th>\n",
       "      <th>4329472</th>\n",
       "      <td>4329472.0</td>\n",
       "      <td>23.373750</td>\n",
       "    </tr>\n",
       "  </tbody>\n",
       "</table>\n",
       "</div>"
      ],
      "text/plain": [
       "                      LINK_ID      SPEED\n",
       "DATETIME   LINK_ID                      \n",
       "2017-05-31 4329472  4329472.0  13.952727\n",
       "2017-06-30 4329472  4329472.0  13.384615\n",
       "2017-07-31 4329472  4329472.0  15.759091\n",
       "2017-08-31 4329472  4329472.0  25.525417\n",
       "2017-09-30 4329472  4329472.0  23.373750"
      ]
     },
     "execution_count": 144,
     "metadata": {},
     "output_type": "execute_result"
    }
   ],
   "source": [
    "traffic_df_rsmpld = traffic_df_byday.reset_index().groupby('LINK_ID').apply(lambda x: x.set_index('DATETIME').resample('1M').median()).swaplevel(1,0)\n",
    "traffic_df_rsmpld.info()\n",
    "traffic_df_rsmpld.head()"
   ]
  },
  {
   "cell_type": "code",
   "execution_count": 145,
   "metadata": {},
   "outputs": [
    {
     "name": "stdout",
     "output_type": "stream",
     "text": [
      "<class 'pandas.core.frame.DataFrame'>\n",
      "MultiIndex: 1202 entries, (2016-09-30 00:00:00, 4616192) to (2017-12-31 00:00:00, 4763657)\n",
      "Data columns (total 2 columns):\n",
      "LINK_ID    1054 non-null float64\n",
      "SPEED      1054 non-null float64\n",
      "dtypes: float64(2)\n",
      "memory usage: 23.6 KB\n"
     ]
    },
    {
     "data": {
      "text/html": [
       "<div>\n",
       "<style scoped>\n",
       "    .dataframe tbody tr th:only-of-type {\n",
       "        vertical-align: middle;\n",
       "    }\n",
       "\n",
       "    .dataframe tbody tr th {\n",
       "        vertical-align: top;\n",
       "    }\n",
       "\n",
       "    .dataframe thead th {\n",
       "        text-align: right;\n",
       "    }\n",
       "</style>\n",
       "<table border=\"1\" class=\"dataframe\">\n",
       "  <thead>\n",
       "    <tr style=\"text-align: right;\">\n",
       "      <th></th>\n",
       "      <th></th>\n",
       "      <th>LINK_ID</th>\n",
       "      <th>SPEED</th>\n",
       "    </tr>\n",
       "    <tr>\n",
       "      <th>DATETIME</th>\n",
       "      <th>LINK_ID</th>\n",
       "      <th></th>\n",
       "      <th></th>\n",
       "    </tr>\n",
       "  </thead>\n",
       "  <tbody>\n",
       "    <tr>\n",
       "      <th>2016-09-30</th>\n",
       "      <th>4616192</th>\n",
       "      <td>4616192.0</td>\n",
       "      <td>45.98</td>\n",
       "    </tr>\n",
       "    <tr>\n",
       "      <th rowspan=\"4\" valign=\"top\">2016-10-31</th>\n",
       "      <th>4456516</th>\n",
       "      <td>4456516.0</td>\n",
       "      <td>14.29</td>\n",
       "    </tr>\n",
       "    <tr>\n",
       "      <th>4616192</th>\n",
       "      <td>NaN</td>\n",
       "      <td>NaN</td>\n",
       "    </tr>\n",
       "    <tr>\n",
       "      <th>4616193</th>\n",
       "      <td>4616193.0</td>\n",
       "      <td>4.97</td>\n",
       "    </tr>\n",
       "    <tr>\n",
       "      <th>4616194</th>\n",
       "      <td>4616194.0</td>\n",
       "      <td>6.21</td>\n",
       "    </tr>\n",
       "  </tbody>\n",
       "</table>\n",
       "</div>"
      ],
      "text/plain": [
       "                      LINK_ID  SPEED\n",
       "DATETIME   LINK_ID                  \n",
       "2016-09-30 4616192  4616192.0  45.98\n",
       "2016-10-31 4456516  4456516.0  14.29\n",
       "           4616192        NaN    NaN\n",
       "           4616193  4616193.0   4.97\n",
       "           4616194  4616194.0   6.21"
      ]
     },
     "execution_count": 145,
     "metadata": {},
     "output_type": "execute_result"
    }
   ],
   "source": [
    "#idx = pd.IndexSlice\n",
    "traffic_df_rsmpld = traffic_df_rsmpld.sort_index().loc[idx['2016-01-01':'2017-12-31',:],:].sort_index()\n",
    "traffic_df_rsmpld.info()\n",
    "traffic_df_rsmpld.head()"
   ]
  },
  {
   "cell_type": "code",
   "execution_count": 163,
   "metadata": {},
   "outputs": [
    {
     "name": "stdout",
     "output_type": "stream",
     "text": [
      "<class 'pandas.core.frame.DataFrame'>\n",
      "DatetimeIndex: 39282163 entries, 2016-01-06 00:00:00 to 2017-12-27 23:59:59\n",
      "Data columns (total 1 columns):\n",
      "passenger_count    object\n",
      "dtypes: object(1)\n",
      "memory usage: 599.4+ MB\n"
     ]
    },
    {
     "data": {
      "text/html": [
       "<div>\n",
       "<style scoped>\n",
       "    .dataframe tbody tr th:only-of-type {\n",
       "        vertical-align: middle;\n",
       "    }\n",
       "\n",
       "    .dataframe tbody tr th {\n",
       "        vertical-align: top;\n",
       "    }\n",
       "\n",
       "    .dataframe thead th {\n",
       "        text-align: right;\n",
       "    }\n",
       "</style>\n",
       "<table border=\"1\" class=\"dataframe\">\n",
       "  <thead>\n",
       "    <tr style=\"text-align: right;\">\n",
       "      <th></th>\n",
       "      <th>passenger_count</th>\n",
       "    </tr>\n",
       "    <tr>\n",
       "      <th>dropoff_datetime</th>\n",
       "      <th></th>\n",
       "    </tr>\n",
       "  </thead>\n",
       "  <tbody>\n",
       "    <tr>\n",
       "      <th>2016-01-06</th>\n",
       "      <td>2</td>\n",
       "    </tr>\n",
       "    <tr>\n",
       "      <th>2016-01-06</th>\n",
       "      <td>1</td>\n",
       "    </tr>\n",
       "    <tr>\n",
       "      <th>2016-01-06</th>\n",
       "      <td>1</td>\n",
       "    </tr>\n",
       "    <tr>\n",
       "      <th>2016-01-06</th>\n",
       "      <td>1</td>\n",
       "    </tr>\n",
       "    <tr>\n",
       "      <th>2016-01-06</th>\n",
       "      <td>1</td>\n",
       "    </tr>\n",
       "  </tbody>\n",
       "</table>\n",
       "</div>"
      ],
      "text/plain": [
       "                 passenger_count\n",
       "dropoff_datetime                \n",
       "2016-01-06                     2\n",
       "2016-01-06                     1\n",
       "2016-01-06                     1\n",
       "2016-01-06                     1\n",
       "2016-01-06                     1"
      ]
     },
     "execution_count": 163,
     "metadata": {},
     "output_type": "execute_result"
    }
   ],
   "source": [
    "#resample transit and cab data to a lower frequency (1 Month)\n",
    "\n",
    "#select by day\n",
    "cabs_df_byday = cabs_df.loc[cabs_df.index.weekday == weekday]\n",
    "cabs_df_byday.info()\n",
    "cabs_df_byday.head()"
   ]
  },
  {
   "cell_type": "code",
   "execution_count": 164,
   "metadata": {},
   "outputs": [
    {
     "data": {
      "text/plain": [
       "dropoff_datetime\n",
       "2016-01-31    1660372\n",
       "2016-02-29    1740040\n",
       "2016-03-31    2185287\n",
       "2016-04-30    1742900\n",
       "2016-05-31    1734233\n",
       "Freq: M, Name: passenger_count, dtype: int64"
      ]
     },
     "execution_count": 164,
     "metadata": {},
     "output_type": "execute_result"
    }
   ],
   "source": [
    "cabs_df_rsmpld = cabs_df_byday.resample('1M')['passenger_count'].count()\n",
    "#transit_df = transit_df.reset_index().set_index('DATETIME')\n",
    "#transit_df_rsmpld = transit_df_rsmpld.reset_index().set_index(['DATETIME','STATION'])\n",
    "cabs_df_rsmpld.head()"
   ]
  },
  {
   "cell_type": "code",
   "execution_count": 120,
   "metadata": {},
   "outputs": [
    {
     "name": "stdout",
     "output_type": "stream",
     "text": [
      "<class 'pandas.core.frame.DataFrame'>\n",
      "DatetimeIndex: 104 entries, 2016-01-06 to 2017-12-27\n",
      "Data columns (total 5 columns):\n",
      "PRCP    104 non-null float64\n",
      "SNOW    104 non-null float64\n",
      "TMAX    104 non-null int64\n",
      "TMIN    104 non-null int64\n",
      "TAVG    104 non-null float64\n",
      "dtypes: float64(3), int64(2)\n",
      "memory usage: 4.9 KB\n"
     ]
    },
    {
     "data": {
      "text/html": [
       "<div>\n",
       "<style scoped>\n",
       "    .dataframe tbody tr th:only-of-type {\n",
       "        vertical-align: middle;\n",
       "    }\n",
       "\n",
       "    .dataframe tbody tr th {\n",
       "        vertical-align: top;\n",
       "    }\n",
       "\n",
       "    .dataframe thead th {\n",
       "        text-align: right;\n",
       "    }\n",
       "</style>\n",
       "<table border=\"1\" class=\"dataframe\">\n",
       "  <thead>\n",
       "    <tr style=\"text-align: right;\">\n",
       "      <th></th>\n",
       "      <th>PRCP</th>\n",
       "      <th>SNOW</th>\n",
       "      <th>TMAX</th>\n",
       "      <th>TMIN</th>\n",
       "      <th>TAVG</th>\n",
       "    </tr>\n",
       "    <tr>\n",
       "      <th>DATE</th>\n",
       "      <th></th>\n",
       "      <th></th>\n",
       "      <th></th>\n",
       "      <th></th>\n",
       "      <th></th>\n",
       "    </tr>\n",
       "  </thead>\n",
       "  <tbody>\n",
       "    <tr>\n",
       "      <th>2016-01-06</th>\n",
       "      <td>0.00</td>\n",
       "      <td>0.0</td>\n",
       "      <td>41</td>\n",
       "      <td>25</td>\n",
       "      <td>33.0</td>\n",
       "    </tr>\n",
       "    <tr>\n",
       "      <th>2016-01-13</th>\n",
       "      <td>0.00</td>\n",
       "      <td>0.0</td>\n",
       "      <td>30</td>\n",
       "      <td>22</td>\n",
       "      <td>26.0</td>\n",
       "    </tr>\n",
       "    <tr>\n",
       "      <th>2016-01-20</th>\n",
       "      <td>0.00</td>\n",
       "      <td>0.0</td>\n",
       "      <td>37</td>\n",
       "      <td>27</td>\n",
       "      <td>32.0</td>\n",
       "    </tr>\n",
       "    <tr>\n",
       "      <th>2016-01-27</th>\n",
       "      <td>0.00</td>\n",
       "      <td>0.0</td>\n",
       "      <td>47</td>\n",
       "      <td>34</td>\n",
       "      <td>40.5</td>\n",
       "    </tr>\n",
       "    <tr>\n",
       "      <th>2016-02-03</th>\n",
       "      <td>0.73</td>\n",
       "      <td>0.0</td>\n",
       "      <td>59</td>\n",
       "      <td>42</td>\n",
       "      <td>50.5</td>\n",
       "    </tr>\n",
       "  </tbody>\n",
       "</table>\n",
       "</div>"
      ],
      "text/plain": [
       "            PRCP  SNOW  TMAX  TMIN  TAVG\n",
       "DATE                                    \n",
       "2016-01-06  0.00   0.0    41    25  33.0\n",
       "2016-01-13  0.00   0.0    30    22  26.0\n",
       "2016-01-20  0.00   0.0    37    27  32.0\n",
       "2016-01-27  0.00   0.0    47    34  40.5\n",
       "2016-02-03  0.73   0.0    59    42  50.5"
      ]
     },
     "execution_count": 120,
     "metadata": {},
     "output_type": "execute_result"
    }
   ],
   "source": [
    "#select by day\n",
    "weather_df_byday = weather_df.loc[weather_df.index.weekday == weekday]\n",
    "weather_df_byday.info()\n",
    "weather_df_byday.head()"
   ]
  },
  {
   "cell_type": "code",
   "execution_count": 121,
   "metadata": {},
   "outputs": [
    {
     "data": {
      "text/html": [
       "<div>\n",
       "<style scoped>\n",
       "    .dataframe tbody tr th:only-of-type {\n",
       "        vertical-align: middle;\n",
       "    }\n",
       "\n",
       "    .dataframe tbody tr th {\n",
       "        vertical-align: top;\n",
       "    }\n",
       "\n",
       "    .dataframe thead th {\n",
       "        text-align: right;\n",
       "    }\n",
       "</style>\n",
       "<table border=\"1\" class=\"dataframe\">\n",
       "  <thead>\n",
       "    <tr style=\"text-align: right;\">\n",
       "      <th></th>\n",
       "      <th>PRCP</th>\n",
       "      <th>SNOW</th>\n",
       "      <th>TMAX</th>\n",
       "      <th>TMIN</th>\n",
       "      <th>TAVG</th>\n",
       "    </tr>\n",
       "    <tr>\n",
       "      <th>DATE</th>\n",
       "      <th></th>\n",
       "      <th></th>\n",
       "      <th></th>\n",
       "      <th></th>\n",
       "      <th></th>\n",
       "    </tr>\n",
       "  </thead>\n",
       "  <tbody>\n",
       "    <tr>\n",
       "      <th>2016-01-31</th>\n",
       "      <td>0.0000</td>\n",
       "      <td>0.0</td>\n",
       "      <td>38.75</td>\n",
       "      <td>27.00</td>\n",
       "      <td>32.875</td>\n",
       "    </tr>\n",
       "    <tr>\n",
       "      <th>2016-02-29</th>\n",
       "      <td>0.4900</td>\n",
       "      <td>0.0</td>\n",
       "      <td>49.25</td>\n",
       "      <td>36.00</td>\n",
       "      <td>42.625</td>\n",
       "    </tr>\n",
       "    <tr>\n",
       "      <th>2016-03-31</th>\n",
       "      <td>0.0320</td>\n",
       "      <td>0.0</td>\n",
       "      <td>64.80</td>\n",
       "      <td>41.20</td>\n",
       "      <td>53.000</td>\n",
       "    </tr>\n",
       "    <tr>\n",
       "      <th>2016-04-30</th>\n",
       "      <td>0.0000</td>\n",
       "      <td>0.0</td>\n",
       "      <td>59.25</td>\n",
       "      <td>41.25</td>\n",
       "      <td>50.250</td>\n",
       "    </tr>\n",
       "    <tr>\n",
       "      <th>2016-05-31</th>\n",
       "      <td>0.0025</td>\n",
       "      <td>0.0</td>\n",
       "      <td>71.00</td>\n",
       "      <td>52.75</td>\n",
       "      <td>61.875</td>\n",
       "    </tr>\n",
       "  </tbody>\n",
       "</table>\n",
       "</div>"
      ],
      "text/plain": [
       "              PRCP  SNOW   TMAX   TMIN    TAVG\n",
       "DATE                                          \n",
       "2016-01-31  0.0000   0.0  38.75  27.00  32.875\n",
       "2016-02-29  0.4900   0.0  49.25  36.00  42.625\n",
       "2016-03-31  0.0320   0.0  64.80  41.20  53.000\n",
       "2016-04-30  0.0000   0.0  59.25  41.25  50.250\n",
       "2016-05-31  0.0025   0.0  71.00  52.75  61.875"
      ]
     },
     "execution_count": 121,
     "metadata": {},
     "output_type": "execute_result"
    }
   ],
   "source": [
    "weather_df_rsmpld = weather_df_byday.resample('1M').mean()\n",
    "#weather_snow = weather_df['SNOW'].resample('1M').mean()\n",
    "#weather_snow = weather_df['SNOW'].resample('1M').mean()\n",
    "\n",
    "weather_df_rsmpld.head()"
   ]
  },
  {
   "cell_type": "code",
   "execution_count": null,
   "metadata": {},
   "outputs": [],
   "source": []
  },
  {
   "cell_type": "code",
   "execution_count": null,
   "metadata": {},
   "outputs": [],
   "source": []
  },
  {
   "cell_type": "code",
   "execution_count": null,
   "metadata": {},
   "outputs": [],
   "source": []
  },
  {
   "cell_type": "code",
   "execution_count": null,
   "metadata": {},
   "outputs": [],
   "source": []
  },
  {
   "cell_type": "code",
   "execution_count": null,
   "metadata": {},
   "outputs": [],
   "source": []
  },
  {
   "cell_type": "code",
   "execution_count": null,
   "metadata": {},
   "outputs": [],
   "source": []
  },
  {
   "cell_type": "code",
   "execution_count": null,
   "metadata": {},
   "outputs": [],
   "source": []
  }
 ],
 "metadata": {
  "kernelspec": {
   "display_name": "Python 3",
   "language": "python",
   "name": "python3"
  },
  "language_info": {
   "codemirror_mode": {
    "name": "ipython",
    "version": 3
   },
   "file_extension": ".py",
   "mimetype": "text/x-python",
   "name": "python",
   "nbconvert_exporter": "python",
   "pygments_lexer": "ipython3",
   "version": "3.6.5"
  }
 },
 "nbformat": 4,
 "nbformat_minor": 2
}
