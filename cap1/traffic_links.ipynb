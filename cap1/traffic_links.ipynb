{
 "cells": [
  {
   "cell_type": "code",
   "execution_count": 1,
   "metadata": {},
   "outputs": [],
   "source": [
    "import pandas as pd\n",
    "import numpy as np\n",
    "import datetime as dt\n",
    "import matplotlib.pyplot as plt\n",
    "import re\n",
    "root = 'data/'"
   ]
  },
  {
   "cell_type": "code",
   "execution_count": 2,
   "metadata": {},
   "outputs": [],
   "source": [
    "from geopandas import GeoDataFrame\n",
    "from geopandas import sjoin\n",
    "from shapely.geometry import Point\n",
    "from shapely.geometry import LineString"
   ]
  },
  {
   "cell_type": "markdown",
   "metadata": {},
   "source": [
    "# LOAD TRAFFIC LINK DATA"
   ]
  },
  {
   "cell_type": "markdown",
   "metadata": {},
   "source": [
    "Source : NYC Open data (Traffic Links Data)\n",
    "\n",
    "Description : Traffic Links (sets of geographic coordinates) each representing a stretch or road/street over which the average speed of traffic is recorded. Useful fields are 'LINK_ID','LINK_POINTS','BOROUGH'\n",
    "\n",
    "Processing :\n",
    "\n",
    "Following data issues have been addressed :\n",
    "\n",
    "    1. The column 'LINK_POINTS' required further processing in order to be readily consumable for joins (geographic) with the Stations dataset : The python geopandas library was leveraged for this purpose (This library in turn depends on shapely, fiona and rtree). The contents of 'LINK_POINTS' were merged into a single 'LineString' geometry (shapely.geometry.LineString) and the entire datset converted to a geopandas GeoDataFrame. This allows for fairly easy joins across datasets using the geometry attributes like points, lines and polygons. \n",
    "    2. Association of each 'LINK_ID' with a Station : A circle of customizable radius, centered at each station, representing the 'circles of influence' or zones for each station (represented as a Polygon geometry in the Stations dataset) was used to find intersection with traffic link data. (each link was associated with a station by finding which station-zone the link-line intersects with)\n",
    "    \n",
    "The processed data is saved in geojson format, to enable quick reading in the clean_and_wrangle notebook"
   ]
  },
  {
   "cell_type": "code",
   "execution_count": 3,
   "metadata": {},
   "outputs": [
    {
     "name": "stdout",
     "output_type": "stream",
     "text": [
      "<class 'pandas.core.frame.DataFrame'>\n",
      "Int64Index: 154 entries, 4620330 to 4616257\n",
      "Data columns (total 2 columns):\n",
      "LINK_POINTS    154 non-null object\n",
      "BOROUGH        154 non-null object\n",
      "dtypes: object(2)\n",
      "memory usage: 3.6+ KB\n"
     ]
    },
    {
     "data": {
      "text/html": [
       "<div>\n",
       "<style scoped>\n",
       "    .dataframe tbody tr th:only-of-type {\n",
       "        vertical-align: middle;\n",
       "    }\n",
       "\n",
       "    .dataframe tbody tr th {\n",
       "        vertical-align: top;\n",
       "    }\n",
       "\n",
       "    .dataframe thead th {\n",
       "        text-align: right;\n",
       "    }\n",
       "</style>\n",
       "<table border=\"1\" class=\"dataframe\">\n",
       "  <thead>\n",
       "    <tr style=\"text-align: right;\">\n",
       "      <th></th>\n",
       "      <th>LINK_POINTS</th>\n",
       "      <th>BOROUGH</th>\n",
       "    </tr>\n",
       "    <tr>\n",
       "      <th>LINK_ID</th>\n",
       "      <th></th>\n",
       "      <th></th>\n",
       "    </tr>\n",
       "  </thead>\n",
       "  <tbody>\n",
       "    <tr>\n",
       "      <th>4620330</th>\n",
       "      <td>40.85513,-73.91865 40.8526305,-73.920881 40.85...</td>\n",
       "      <td>Bronx</td>\n",
       "    </tr>\n",
       "    <tr>\n",
       "      <th>4620331</th>\n",
       "      <td>40.8465405,-73.932021 40.84611,-73.93075 40.84...</td>\n",
       "      <td>Bronx</td>\n",
       "    </tr>\n",
       "    <tr>\n",
       "      <th>4620332</th>\n",
       "      <td>40.84671,-73.931941 40.8460306,-73.930181 40.8...</td>\n",
       "      <td>Bronx</td>\n",
       "    </tr>\n",
       "    <tr>\n",
       "      <th>4620343</th>\n",
       "      <td>40.77149,-73.99423 40.7719,-73.99401 40.77481,...</td>\n",
       "      <td>Manhattan</td>\n",
       "    </tr>\n",
       "    <tr>\n",
       "      <th>4456450</th>\n",
       "      <td>40.80069,-73.92878 40.8013005,-73.930181 40.80...</td>\n",
       "      <td>Manhattan</td>\n",
       "    </tr>\n",
       "  </tbody>\n",
       "</table>\n",
       "</div>"
      ],
      "text/plain": [
       "                                               LINK_POINTS    BOROUGH\n",
       "LINK_ID                                                              \n",
       "4620330  40.85513,-73.91865 40.8526305,-73.920881 40.85...      Bronx\n",
       "4620331  40.8465405,-73.932021 40.84611,-73.93075 40.84...      Bronx\n",
       "4620332  40.84671,-73.931941 40.8460306,-73.930181 40.8...      Bronx\n",
       "4620343  40.77149,-73.99423 40.7719,-73.99401 40.77481,...  Manhattan\n",
       "4456450  40.80069,-73.92878 40.8013005,-73.930181 40.80...  Manhattan"
      ]
     },
     "execution_count": 3,
     "metadata": {},
     "output_type": "execute_result"
    }
   ],
   "source": [
    "file = root + 'traffic/DOT_Traffic_Links.csv'\n",
    "df_traffic_links = pd.read_csv(file, header=0,index_col='LINK_ID')\n",
    "df_traffic_links.info()\n",
    "df_traffic_links.head()"
   ]
  },
  {
   "cell_type": "code",
   "execution_count": 4,
   "metadata": {},
   "outputs": [],
   "source": [
    "float_pattern = re.compile('^-?\\d*\\.\\d{4,}$')\n",
    "def build_single_coord_pair(xy):\n",
    "    #coord pair xy should be a comma separated string of float values\n",
    "    xy_arr = xy.split(',')\n",
    "    if (len(xy_arr) == 2):\n",
    "        x = xy_arr[0]\n",
    "        y = xy_arr[1]\n",
    "        try:\n",
    "            return (make_float(x),make_float(y))\n",
    "        except:\n",
    "            return (np.nan,np.nan)\n",
    "    else:\n",
    "        return (np.nan,np.nan)\n",
    "    \n",
    "def make_float(x):\n",
    "    match = float_pattern.match(x)\n",
    "    if(match):\n",
    "        try:\n",
    "            return float(x)\n",
    "        except:\n",
    "            return np.nan\n",
    "    else:\n",
    "        return np.nan\n",
    "                \n",
    "def build_coord_tuples(coords_str):\n",
    "    coords_arr = coords_str.split(' ')\n",
    "    coord_xy = [build_single_coord_pair(x_comma_y) for x_comma_y in coords_arr]\n",
    "    return [xy for xy in coord_xy if (~( np.isnan(xy[0]) or np.isnan(xy[1]) ) ) ]"
   ]
  },
  {
   "cell_type": "markdown",
   "metadata": {},
   "source": [
    "#convert to geodataframe"
   ]
  },
  {
   "cell_type": "code",
   "execution_count": 6,
   "metadata": {},
   "outputs": [
    {
     "name": "stdout",
     "output_type": "stream",
     "text": [
      "<class 'geopandas.geodataframe.GeoDataFrame'>\n",
      "Int64Index: 154 entries, 4620330 to 4616257\n",
      "Data columns (total 2 columns):\n",
      "BOROUGH     154 non-null object\n",
      "geometry    154 non-null object\n",
      "dtypes: object(2)\n",
      "memory usage: 3.6+ KB\n"
     ]
    },
    {
     "data": {
      "text/html": [
       "<div>\n",
       "<style scoped>\n",
       "    .dataframe tbody tr th:only-of-type {\n",
       "        vertical-align: middle;\n",
       "    }\n",
       "\n",
       "    .dataframe tbody tr th {\n",
       "        vertical-align: top;\n",
       "    }\n",
       "\n",
       "    .dataframe thead th {\n",
       "        text-align: right;\n",
       "    }\n",
       "</style>\n",
       "<table border=\"1\" class=\"dataframe\">\n",
       "  <thead>\n",
       "    <tr style=\"text-align: right;\">\n",
       "      <th></th>\n",
       "      <th>BOROUGH</th>\n",
       "      <th>geometry</th>\n",
       "    </tr>\n",
       "    <tr>\n",
       "      <th>LINK_ID</th>\n",
       "      <th></th>\n",
       "      <th></th>\n",
       "    </tr>\n",
       "  </thead>\n",
       "  <tbody>\n",
       "    <tr>\n",
       "      <th>4620330</th>\n",
       "      <td>Bronx</td>\n",
       "      <td>LINESTRING (40.85513 -73.91865, 40.8526305 -73...</td>\n",
       "    </tr>\n",
       "    <tr>\n",
       "      <th>4620331</th>\n",
       "      <td>Bronx</td>\n",
       "      <td>LINESTRING (40.8465405 -73.93202100000001, 40....</td>\n",
       "    </tr>\n",
       "    <tr>\n",
       "      <th>4620332</th>\n",
       "      <td>Bronx</td>\n",
       "      <td>LINESTRING (40.84671 -73.93194099999999, 40.84...</td>\n",
       "    </tr>\n",
       "    <tr>\n",
       "      <th>4620343</th>\n",
       "      <td>Manhattan</td>\n",
       "      <td>LINESTRING (40.77149 -73.99423, 40.7719 -73.99...</td>\n",
       "    </tr>\n",
       "    <tr>\n",
       "      <th>4456450</th>\n",
       "      <td>Manhattan</td>\n",
       "      <td>LINESTRING (40.80069 -73.92878, 40.8013005 -73...</td>\n",
       "    </tr>\n",
       "  </tbody>\n",
       "</table>\n",
       "</div>"
      ],
      "text/plain": [
       "           BOROUGH                                           geometry\n",
       "LINK_ID                                                              \n",
       "4620330      Bronx  LINESTRING (40.85513 -73.91865, 40.8526305 -73...\n",
       "4620331      Bronx  LINESTRING (40.8465405 -73.93202100000001, 40....\n",
       "4620332      Bronx  LINESTRING (40.84671 -73.93194099999999, 40.84...\n",
       "4620343  Manhattan  LINESTRING (40.77149 -73.99423, 40.7719 -73.99...\n",
       "4456450  Manhattan  LINESTRING (40.80069 -73.92878, 40.8013005 -73..."
      ]
     },
     "execution_count": 6,
     "metadata": {},
     "output_type": "execute_result"
    }
   ],
   "source": [
    "geometry = [LineString(build_coord_tuples(x)) for x in df_traffic_links.LINK_POINTS]\n",
    "crs={'init':'epsg:4326'}\n",
    "geodf_traffic_links = GeoDataFrame(df_traffic_links.drop('LINK_POINTS',axis=1),crs=crs,geometry=geometry)\n",
    "geodf_traffic_links.info()\n",
    "geodf_traffic_links.head()"
   ]
  },
  {
   "cell_type": "code",
   "execution_count": 8,
   "metadata": {},
   "outputs": [
    {
     "data": {
      "image/png": "[encoded data removed]",
      "text/plain": [
       "<Figure size 432x288 with 1 Axes>"
      ]
     },
     "metadata": {},
     "output_type": "display_data"
    }
   ],
   "source": [
    "geodf_traffic_links.plot(color='r')\n",
    "plt.show()"
   ]
  },
  {
   "cell_type": "markdown",
   "metadata": {},
   "source": [
    "# JOIN TRANSIT STATIONS WITH TRAFFIC LINKS"
   ]
  },
  {
   "cell_type": "code",
   "execution_count": 9,
   "metadata": {},
   "outputs": [
    {
     "data": {
      "text/html": [
       "<div>\n",
       "<style scoped>\n",
       "    .dataframe tbody tr th:only-of-type {\n",
       "        vertical-align: middle;\n",
       "    }\n",
       "\n",
       "    .dataframe tbody tr th {\n",
       "        vertical-align: top;\n",
       "    }\n",
       "\n",
       "    .dataframe thead th {\n",
       "        text-align: right;\n",
       "    }\n",
       "</style>\n",
       "<table border=\"1\" class=\"dataframe\">\n",
       "  <thead>\n",
       "    <tr style=\"text-align: right;\">\n",
       "      <th></th>\n",
       "      <th>STATION</th>\n",
       "      <th>geometry</th>\n",
       "    </tr>\n",
       "  </thead>\n",
       "  <tbody>\n",
       "    <tr>\n",
       "      <th>0</th>\n",
       "      <td>None</td>\n",
       "      <td>POLYGON ((40.785036 -73.91203400000001, 40.784...</td>\n",
       "    </tr>\n",
       "    <tr>\n",
       "      <th>1</th>\n",
       "      <td>ASTORIA BLVD</td>\n",
       "      <td>POLYGON ((40.780258 -73.917843, 40.78020984726...</td>\n",
       "    </tr>\n",
       "    <tr>\n",
       "      <th>2</th>\n",
       "      <td>30 AV</td>\n",
       "      <td>POLYGON ((40.776779 -73.92147900000001, 40.776...</td>\n",
       "    </tr>\n",
       "    <tr>\n",
       "      <th>3</th>\n",
       "      <td>BROADWAY</td>\n",
       "      <td>POLYGON ((40.77182 -73.92550799999999, 40.7717...</td>\n",
       "    </tr>\n",
       "    <tr>\n",
       "      <th>4</th>\n",
       "      <td>36 AV</td>\n",
       "      <td>POLYGON ((40.766804 -73.929575, 40.76675584726...</td>\n",
       "    </tr>\n",
       "  </tbody>\n",
       "</table>\n",
       "</div>"
      ],
      "text/plain": [
       "        STATION                                           geometry\n",
       "0          None  POLYGON ((40.785036 -73.91203400000001, 40.784...\n",
       "1  ASTORIA BLVD  POLYGON ((40.780258 -73.917843, 40.78020984726...\n",
       "2         30 AV  POLYGON ((40.776779 -73.92147900000001, 40.776...\n",
       "3      BROADWAY  POLYGON ((40.77182 -73.92550799999999, 40.7717...\n",
       "4         36 AV  POLYGON ((40.766804 -73.929575, 40.76675584726..."
      ]
     },
     "execution_count": 9,
     "metadata": {},
     "output_type": "execute_result"
    }
   ],
   "source": [
    "#LOAD STATION GEO DF (ALREADY PROCESSED IN STATIONS NOTEBOOK)\n",
    "file = root + 'transit/Stations_geomerged.geojson'\n",
    "geodf_stations = GeoDataFrame.from_file(file)[['STATION','geometry']]\n",
    "geodf_stations.head()"
   ]
  },
  {
   "cell_type": "code",
   "execution_count": 10,
   "metadata": {},
   "outputs": [],
   "source": [
    "geodf_trststns_trfclinks = sjoin(geodf_stations,geodf_traffic_links,how='inner',op='intersects')"
   ]
  },
  {
   "cell_type": "code",
   "execution_count": 11,
   "metadata": {},
   "outputs": [
    {
     "name": "stdout",
     "output_type": "stream",
     "text": [
      "<class 'geopandas.geodataframe.GeoDataFrame'>\n",
      "Int64Index: 641 entries, 0 to 537\n",
      "Data columns (total 4 columns):\n",
      "STATION     532 non-null object\n",
      "geometry    641 non-null object\n",
      "LINK_ID     641 non-null int64\n",
      "BOROUGH     641 non-null object\n",
      "dtypes: int64(1), object(3)\n",
      "memory usage: 25.0+ KB\n"
     ]
    },
    {
     "data": {
      "text/html": [
       "<div>\n",
       "<style scoped>\n",
       "    .dataframe tbody tr th:only-of-type {\n",
       "        vertical-align: middle;\n",
       "    }\n",
       "\n",
       "    .dataframe tbody tr th {\n",
       "        vertical-align: top;\n",
       "    }\n",
       "\n",
       "    .dataframe thead th {\n",
       "        text-align: right;\n",
       "    }\n",
       "</style>\n",
       "<table border=\"1\" class=\"dataframe\">\n",
       "  <thead>\n",
       "    <tr style=\"text-align: right;\">\n",
       "      <th></th>\n",
       "      <th>STATION</th>\n",
       "      <th>geometry</th>\n",
       "      <th>LINK_ID</th>\n",
       "      <th>BOROUGH</th>\n",
       "    </tr>\n",
       "  </thead>\n",
       "  <tbody>\n",
       "    <tr>\n",
       "      <th>0</th>\n",
       "      <td>None</td>\n",
       "      <td>POLYGON ((40.785036 -73.91203400000001, 40.784...</td>\n",
       "      <td>4456481</td>\n",
       "      <td>Queens</td>\n",
       "    </tr>\n",
       "    <tr>\n",
       "      <th>1</th>\n",
       "      <td>ASTORIA BLVD</td>\n",
       "      <td>POLYGON ((40.780258 -73.917843, 40.78020984726...</td>\n",
       "      <td>4456481</td>\n",
       "      <td>Queens</td>\n",
       "    </tr>\n",
       "    <tr>\n",
       "      <th>2</th>\n",
       "      <td>30 AV</td>\n",
       "      <td>POLYGON ((40.776779 -73.92147900000001, 40.776...</td>\n",
       "      <td>4456481</td>\n",
       "      <td>Queens</td>\n",
       "    </tr>\n",
       "    <tr>\n",
       "      <th>0</th>\n",
       "      <td>None</td>\n",
       "      <td>POLYGON ((40.785036 -73.91203400000001, 40.784...</td>\n",
       "      <td>4456477</td>\n",
       "      <td>Queens</td>\n",
       "    </tr>\n",
       "    <tr>\n",
       "      <th>1</th>\n",
       "      <td>ASTORIA BLVD</td>\n",
       "      <td>POLYGON ((40.780258 -73.917843, 40.78020984726...</td>\n",
       "      <td>4456477</td>\n",
       "      <td>Queens</td>\n",
       "    </tr>\n",
       "  </tbody>\n",
       "</table>\n",
       "</div>"
      ],
      "text/plain": [
       "        STATION                                           geometry  LINK_ID  \\\n",
       "0          None  POLYGON ((40.785036 -73.91203400000001, 40.784...  4456481   \n",
       "1  ASTORIA BLVD  POLYGON ((40.780258 -73.917843, 40.78020984726...  4456481   \n",
       "2         30 AV  POLYGON ((40.776779 -73.92147900000001, 40.776...  4456481   \n",
       "0          None  POLYGON ((40.785036 -73.91203400000001, 40.784...  4456477   \n",
       "1  ASTORIA BLVD  POLYGON ((40.780258 -73.917843, 40.78020984726...  4456477   \n",
       "\n",
       "  BOROUGH  \n",
       "0  Queens  \n",
       "1  Queens  \n",
       "2  Queens  \n",
       "0  Queens  \n",
       "1  Queens  "
      ]
     },
     "execution_count": 11,
     "metadata": {},
     "output_type": "execute_result"
    }
   ],
   "source": [
    "geodf_trststns_trfclinks = geodf_trststns_trfclinks.rename(columns={'index_right':'LINK_ID'})\n",
    "geodf_trststns_trfclinks.info()\n",
    "geodf_trststns_trfclinks.head()"
   ]
  },
  {
   "cell_type": "code",
   "execution_count": 12,
   "metadata": {},
   "outputs": [
    {
     "data": {
      "image/png": "[encoded data removed]",
      "text/plain": [
       "<Figure size 432x288 with 1 Axes>"
      ]
     },
     "metadata": {},
     "output_type": "display_data"
    },
    {
     "data": {
      "image/png": "[encoded data removed]",
      "text/plain": [
       "<Figure size 432x288 with 1 Axes>"
      ]
     },
     "metadata": {},
     "output_type": "display_data"
    },
    {
     "data": {
      "image/png": "[encoded data removed]",
      "text/plain": [
       "<Figure size 432x288 with 1 Axes>"
      ]
     },
     "metadata": {},
     "output_type": "display_data"
    }
   ],
   "source": [
    "geodf_stations.plot()\n",
    "geodf_traffic_links.plot(color='r')\n",
    "geodf_trststns_trfclinks.plot(color='m')\n",
    "plt.show()"
   ]
  },
  {
   "cell_type": "code",
   "execution_count": 13,
   "metadata": {},
   "outputs": [],
   "source": [
    "geodf_trststns_trfclinks.to_file(root+'traffic/Traffic_Links_geomerged.geojson',driver='GeoJSON')"
   ]
  },
  {
   "cell_type": "code",
   "execution_count": null,
   "metadata": {},
   "outputs": [],
   "source": []
  }
 ],
 "metadata": {
  "kernelspec": {
   "display_name": "Python 3",
   "language": "python",
   "name": "python3"
  },
  "language_info": {
   "codemirror_mode": {
    "name": "ipython",
    "version": 3
   },
   "file_extension": ".py",
   "mimetype": "text/x-python",
   "name": "python",
   "nbconvert_exporter": "python",
   "pygments_lexer": "ipython3",
   "version": "3.6.5"
  }
 },
 "nbformat": 4,
 "nbformat_minor": 2
}
