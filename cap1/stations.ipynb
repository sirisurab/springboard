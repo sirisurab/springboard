{
 "cells": [
  {
   "cell_type": "code",
   "execution_count": 2,
   "metadata": {},
   "outputs": [],
   "source": [
    "import pandas as pd\n",
    "import glob\n",
    "import numpy as np\n",
    "import datetime as dt\n",
    "import matplotlib.pyplot as plt\n",
    "import re\n",
    "from fuzzywuzzy import fuzz\n",
    "from fuzzywuzzy import process\n",
    "root = 'data/'"
   ]
  },
  {
   "cell_type": "code",
   "execution_count": 3,
   "metadata": {},
   "outputs": [],
   "source": [
    "from geopandas import GeoDataFrame\n",
    "from geopandas import sjoin\n",
    "from shapely.geometry import Point\n",
    "from shapely.geometry import LineString"
   ]
  },
  {
   "cell_type": "markdown",
   "metadata": {},
   "source": [
    "# LOAD STATION DATA"
   ]
  },
  {
   "cell_type": "markdown",
   "metadata": {},
   "source": [
    "Source : NYC MTA (Subway Stations Data)\n",
    "\n",
    "Description : Description of all the subway stations in NYC. Useful fields are 'STOP_NAME' (station name) and 'GTFS Latitude' and 'GTFS Longitude' (geographic coordinates of the station)\n",
    "\n",
    "Processing : This dataset has been processed by the stations.ipynb python notebook and saved to Stations_geomerged.geojson\n",
    "\n",
    "Following data issues have been addressed :\n",
    "\n",
    "    1. There is no unique identifier that represents stations across the NYC MTA database : The 'STATION' column of the MTA turnstile dataset is the only identifier for the station in that set. The contents of this column differed significantly from the 'STOP_NAME' column of the stations dataset. For example, the station named 'TIMES SQ-42 ST' in one set was represented as 'Times Sq - 42 St' in the other. Although, issues like this were easy to fix, there were a fair number of cases where a station named 'Astoria - Ditmars Blvd' did not have any obvious match in the other data set. A possible cause for cases like this is the use of different station names for the same station ('Astoria - Ditmars Blvd' station was earlier known as 'Second Avenue'). Cases like this are hard, if not impossible to match. A python string-matching library called 'fuzzy-wuzzy' was used to find the best matches using 3 Levenshtein closeness ratios (normal ratio, partial ratio and token sort ratio). The match was accepted only if one of the three matching methods returned a ratio of 88% or higher. The matching station names from the trunstile dataset were added to the 'STATION' column of the stations dataset.\n",
    "\n",
    "    2. The columns 'GTFS Latitude' and 'GTFS Longitude' required further processing in order to be readily consumable for joins (geographic) across different datasets (for example with the traffic and taxi/cab datasets) : The python geopandas library was leveraged was this purpose (This library in turn depends on shapely, fiona and rtree). 'GTFS Latitude' and 'GTFS Longitude' were merged into a single 'Point' geometry (shapely.geometry.Point) and the entire datset converted to a geopandas GeoDataFrame. This allows for fairly easy (though sometimes computationally expensive) joins across datasets using the geometry attributes like, points, lines and polygons. A circle of customizable radius, centered at each station, was also drawn and added to a new geometry column containing the circles as polygons. These circles represent 'circles of influence' or zones for each station and will be used to find intersection with traffic and taxi/cab data.\n",
    "\n",
    "The processed data is saved in geojson format, to enable quick reading in the clean_and_wrangle notebook"
   ]
  },
  {
   "cell_type": "code",
   "execution_count": 4,
   "metadata": {},
   "outputs": [
    {
     "name": "stdout",
     "output_type": "stream",
     "text": [
      "<class 'pandas.core.frame.DataFrame'>\n",
      "RangeIndex: 497 entries, 0 to 496\n",
      "Data columns (total 6 columns):\n",
      "Station ID        497 non-null int64\n",
      "GTFS Stop ID      497 non-null object\n",
      "Stop Name         497 non-null object\n",
      "Borough           497 non-null object\n",
      "GTFS Latitude     497 non-null float64\n",
      "GTFS Longitude    497 non-null float64\n",
      "dtypes: float64(2), int64(1), object(3)\n",
      "memory usage: 23.4+ KB\n"
     ]
    },
    {
     "data": {
      "text/html": [
       "<div>\n",
       "<style scoped>\n",
       "    .dataframe tbody tr th:only-of-type {\n",
       "        vertical-align: middle;\n",
       "    }\n",
       "\n",
       "    .dataframe tbody tr th {\n",
       "        vertical-align: top;\n",
       "    }\n",
       "\n",
       "    .dataframe thead th {\n",
       "        text-align: right;\n",
       "    }\n",
       "</style>\n",
       "<table border=\"1\" class=\"dataframe\">\n",
       "  <thead>\n",
       "    <tr style=\"text-align: right;\">\n",
       "      <th></th>\n",
       "      <th>Station ID</th>\n",
       "      <th>GTFS Stop ID</th>\n",
       "      <th>Stop Name</th>\n",
       "      <th>Borough</th>\n",
       "      <th>GTFS Latitude</th>\n",
       "      <th>GTFS Longitude</th>\n",
       "    </tr>\n",
       "  </thead>\n",
       "  <tbody>\n",
       "    <tr>\n",
       "      <th>0</th>\n",
       "      <td>1</td>\n",
       "      <td>R01</td>\n",
       "      <td>Astoria - Ditmars Blvd</td>\n",
       "      <td>Q</td>\n",
       "      <td>40.775036</td>\n",
       "      <td>-73.912034</td>\n",
       "    </tr>\n",
       "    <tr>\n",
       "      <th>1</th>\n",
       "      <td>2</td>\n",
       "      <td>R03</td>\n",
       "      <td>Astoria Blvd</td>\n",
       "      <td>Q</td>\n",
       "      <td>40.770258</td>\n",
       "      <td>-73.917843</td>\n",
       "    </tr>\n",
       "    <tr>\n",
       "      <th>2</th>\n",
       "      <td>3</td>\n",
       "      <td>R04</td>\n",
       "      <td>30 Av</td>\n",
       "      <td>Q</td>\n",
       "      <td>40.766779</td>\n",
       "      <td>-73.921479</td>\n",
       "    </tr>\n",
       "    <tr>\n",
       "      <th>3</th>\n",
       "      <td>4</td>\n",
       "      <td>R05</td>\n",
       "      <td>Broadway</td>\n",
       "      <td>Q</td>\n",
       "      <td>40.761820</td>\n",
       "      <td>-73.925508</td>\n",
       "    </tr>\n",
       "    <tr>\n",
       "      <th>4</th>\n",
       "      <td>5</td>\n",
       "      <td>R06</td>\n",
       "      <td>36 Av</td>\n",
       "      <td>Q</td>\n",
       "      <td>40.756804</td>\n",
       "      <td>-73.929575</td>\n",
       "    </tr>\n",
       "  </tbody>\n",
       "</table>\n",
       "</div>"
      ],
      "text/plain": [
       "   Station ID GTFS Stop ID               Stop Name Borough  GTFS Latitude  \\\n",
       "0           1          R01  Astoria - Ditmars Blvd       Q      40.775036   \n",
       "1           2          R03            Astoria Blvd       Q      40.770258   \n",
       "2           3          R04                   30 Av       Q      40.766779   \n",
       "3           4          R05                Broadway       Q      40.761820   \n",
       "4           5          R06                   36 Av       Q      40.756804   \n",
       "\n",
       "   GTFS Longitude  \n",
       "0      -73.912034  \n",
       "1      -73.917843  \n",
       "2      -73.921479  \n",
       "3      -73.925508  \n",
       "4      -73.929575  "
      ]
     },
     "execution_count": 4,
     "metadata": {},
     "output_type": "execute_result"
    }
   ],
   "source": [
    "file = root+'transit/Stations.csv'\n",
    "df_stations = pd.read_csv(file,usecols=['Station ID','GTFS Stop ID','Stop Name','Borough','GTFS Latitude','GTFS Longitude'])\n",
    "df_stations.info()\n",
    "df_stations.head()"
   ]
  },
  {
   "cell_type": "code",
   "execution_count": 5,
   "metadata": {},
   "outputs": [
    {
     "name": "stdout",
     "output_type": "stream",
     "text": [
      "<class 'pandas.core.frame.DataFrame'>\n",
      "RangeIndex: 497 entries, 0 to 496\n",
      "Data columns (total 6 columns):\n",
      "STATION_ID    497 non-null int64\n",
      "STOP_ID       497 non-null object\n",
      "STOP_NAME     497 non-null object\n",
      "BOROUGH       497 non-null object\n",
      "LATITUDE      497 non-null float64\n",
      "LONGITUDE     497 non-null float64\n",
      "dtypes: float64(2), int64(1), object(3)\n",
      "memory usage: 23.4+ KB\n"
     ]
    },
    {
     "data": {
      "text/html": [
       "<div>\n",
       "<style scoped>\n",
       "    .dataframe tbody tr th:only-of-type {\n",
       "        vertical-align: middle;\n",
       "    }\n",
       "\n",
       "    .dataframe tbody tr th {\n",
       "        vertical-align: top;\n",
       "    }\n",
       "\n",
       "    .dataframe thead th {\n",
       "        text-align: right;\n",
       "    }\n",
       "</style>\n",
       "<table border=\"1\" class=\"dataframe\">\n",
       "  <thead>\n",
       "    <tr style=\"text-align: right;\">\n",
       "      <th></th>\n",
       "      <th>STATION_ID</th>\n",
       "      <th>STOP_ID</th>\n",
       "      <th>STOP_NAME</th>\n",
       "      <th>BOROUGH</th>\n",
       "      <th>LATITUDE</th>\n",
       "      <th>LONGITUDE</th>\n",
       "    </tr>\n",
       "  </thead>\n",
       "  <tbody>\n",
       "    <tr>\n",
       "      <th>0</th>\n",
       "      <td>1</td>\n",
       "      <td>R01</td>\n",
       "      <td>Astoria - Ditmars Blvd</td>\n",
       "      <td>Q</td>\n",
       "      <td>40.775036</td>\n",
       "      <td>-73.912034</td>\n",
       "    </tr>\n",
       "    <tr>\n",
       "      <th>1</th>\n",
       "      <td>2</td>\n",
       "      <td>R03</td>\n",
       "      <td>Astoria Blvd</td>\n",
       "      <td>Q</td>\n",
       "      <td>40.770258</td>\n",
       "      <td>-73.917843</td>\n",
       "    </tr>\n",
       "    <tr>\n",
       "      <th>2</th>\n",
       "      <td>3</td>\n",
       "      <td>R04</td>\n",
       "      <td>30 Av</td>\n",
       "      <td>Q</td>\n",
       "      <td>40.766779</td>\n",
       "      <td>-73.921479</td>\n",
       "    </tr>\n",
       "    <tr>\n",
       "      <th>3</th>\n",
       "      <td>4</td>\n",
       "      <td>R05</td>\n",
       "      <td>Broadway</td>\n",
       "      <td>Q</td>\n",
       "      <td>40.761820</td>\n",
       "      <td>-73.925508</td>\n",
       "    </tr>\n",
       "    <tr>\n",
       "      <th>4</th>\n",
       "      <td>5</td>\n",
       "      <td>R06</td>\n",
       "      <td>36 Av</td>\n",
       "      <td>Q</td>\n",
       "      <td>40.756804</td>\n",
       "      <td>-73.929575</td>\n",
       "    </tr>\n",
       "  </tbody>\n",
       "</table>\n",
       "</div>"
      ],
      "text/plain": [
       "   STATION_ID STOP_ID               STOP_NAME BOROUGH   LATITUDE  LONGITUDE\n",
       "0           1     R01  Astoria - Ditmars Blvd       Q  40.775036 -73.912034\n",
       "1           2     R03            Astoria Blvd       Q  40.770258 -73.917843\n",
       "2           3     R04                   30 Av       Q  40.766779 -73.921479\n",
       "3           4     R05                Broadway       Q  40.761820 -73.925508\n",
       "4           5     R06                   36 Av       Q  40.756804 -73.929575"
      ]
     },
     "execution_count": 5,
     "metadata": {},
     "output_type": "execute_result"
    }
   ],
   "source": [
    "df_stations.columns = ['STATION_ID','STOP_ID','STOP_NAME','BOROUGH','LATITUDE','LONGITUDE']\n",
    "df_stations.info()\n",
    "df_stations.head()"
   ]
  },
  {
   "cell_type": "markdown",
   "metadata": {},
   "source": [
    "#convert to geodataframe"
   ]
  },
  {
   "cell_type": "code",
   "execution_count": 6,
   "metadata": {},
   "outputs": [],
   "source": [
    "geometry = [Point(xy) for xy in zip(df_stations.LATITUDE,df_stations.LONGITUDE)]\n",
    "df_stations = df_stations.drop(['LATITUDE','LONGITUDE'],axis=1)\n",
    "crs={'init':'epsg:4326'}\n",
    "geodf_stations = GeoDataFrame(df_stations,crs=crs,geometry=geometry)"
   ]
  },
  {
   "cell_type": "code",
   "execution_count": 7,
   "metadata": {},
   "outputs": [
    {
     "name": "stdout",
     "output_type": "stream",
     "text": [
      "<class 'geopandas.geodataframe.GeoDataFrame'>\n",
      "RangeIndex: 497 entries, 0 to 496\n",
      "Data columns (total 5 columns):\n",
      "STATION_ID    497 non-null int64\n",
      "STOP_ID       497 non-null object\n",
      "STOP_NAME     497 non-null object\n",
      "BOROUGH       497 non-null object\n",
      "geometry      497 non-null object\n",
      "dtypes: int64(1), object(4)\n",
      "memory usage: 19.5+ KB\n"
     ]
    },
    {
     "data": {
      "text/html": [
       "<div>\n",
       "<style scoped>\n",
       "    .dataframe tbody tr th:only-of-type {\n",
       "        vertical-align: middle;\n",
       "    }\n",
       "\n",
       "    .dataframe tbody tr th {\n",
       "        vertical-align: top;\n",
       "    }\n",
       "\n",
       "    .dataframe thead th {\n",
       "        text-align: right;\n",
       "    }\n",
       "</style>\n",
       "<table border=\"1\" class=\"dataframe\">\n",
       "  <thead>\n",
       "    <tr style=\"text-align: right;\">\n",
       "      <th></th>\n",
       "      <th>STATION_ID</th>\n",
       "      <th>STOP_ID</th>\n",
       "      <th>STOP_NAME</th>\n",
       "      <th>BOROUGH</th>\n",
       "      <th>geometry</th>\n",
       "    </tr>\n",
       "  </thead>\n",
       "  <tbody>\n",
       "    <tr>\n",
       "      <th>0</th>\n",
       "      <td>1</td>\n",
       "      <td>R01</td>\n",
       "      <td>Astoria - Ditmars Blvd</td>\n",
       "      <td>Q</td>\n",
       "      <td>POINT (40.775036 -73.91203399999999)</td>\n",
       "    </tr>\n",
       "    <tr>\n",
       "      <th>1</th>\n",
       "      <td>2</td>\n",
       "      <td>R03</td>\n",
       "      <td>Astoria Blvd</td>\n",
       "      <td>Q</td>\n",
       "      <td>POINT (40.770258 -73.917843)</td>\n",
       "    </tr>\n",
       "    <tr>\n",
       "      <th>2</th>\n",
       "      <td>3</td>\n",
       "      <td>R04</td>\n",
       "      <td>30 Av</td>\n",
       "      <td>Q</td>\n",
       "      <td>POINT (40.766779 -73.92147900000001)</td>\n",
       "    </tr>\n",
       "    <tr>\n",
       "      <th>3</th>\n",
       "      <td>4</td>\n",
       "      <td>R05</td>\n",
       "      <td>Broadway</td>\n",
       "      <td>Q</td>\n",
       "      <td>POINT (40.76182 -73.92550799999999)</td>\n",
       "    </tr>\n",
       "    <tr>\n",
       "      <th>4</th>\n",
       "      <td>5</td>\n",
       "      <td>R06</td>\n",
       "      <td>36 Av</td>\n",
       "      <td>Q</td>\n",
       "      <td>POINT (40.756804 -73.929575)</td>\n",
       "    </tr>\n",
       "  </tbody>\n",
       "</table>\n",
       "</div>"
      ],
      "text/plain": [
       "   STATION_ID STOP_ID               STOP_NAME BOROUGH  \\\n",
       "0           1     R01  Astoria - Ditmars Blvd       Q   \n",
       "1           2     R03            Astoria Blvd       Q   \n",
       "2           3     R04                   30 Av       Q   \n",
       "3           4     R05                Broadway       Q   \n",
       "4           5     R06                   36 Av       Q   \n",
       "\n",
       "                               geometry  \n",
       "0  POINT (40.775036 -73.91203399999999)  \n",
       "1          POINT (40.770258 -73.917843)  \n",
       "2  POINT (40.766779 -73.92147900000001)  \n",
       "3   POINT (40.76182 -73.92550799999999)  \n",
       "4          POINT (40.756804 -73.929575)  "
      ]
     },
     "execution_count": 7,
     "metadata": {},
     "output_type": "execute_result"
    }
   ],
   "source": [
    "geodf_stations.info()\n",
    "geodf_stations.head()"
   ]
  },
  {
   "cell_type": "code",
   "execution_count": 8,
   "metadata": {},
   "outputs": [
    {
     "name": "stdout",
     "output_type": "stream",
     "text": [
      "<class 'geopandas.geodataframe.GeoDataFrame'>\n",
      "RangeIndex: 497 entries, 0 to 496\n",
      "Data columns (total 6 columns):\n",
      "STATION_ID    497 non-null int64\n",
      "STOP_ID       497 non-null object\n",
      "STOP_NAME     497 non-null object\n",
      "BOROUGH       497 non-null object\n",
      "POINT         497 non-null object\n",
      "CIRCLE        497 non-null object\n",
      "dtypes: int64(1), object(5)\n",
      "memory usage: 23.4+ KB\n"
     ]
    },
    {
     "data": {
      "text/html": [
       "<div>\n",
       "<style scoped>\n",
       "    .dataframe tbody tr th:only-of-type {\n",
       "        vertical-align: middle;\n",
       "    }\n",
       "\n",
       "    .dataframe tbody tr th {\n",
       "        vertical-align: top;\n",
       "    }\n",
       "\n",
       "    .dataframe thead th {\n",
       "        text-align: right;\n",
       "    }\n",
       "</style>\n",
       "<table border=\"1\" class=\"dataframe\">\n",
       "  <thead>\n",
       "    <tr style=\"text-align: right;\">\n",
       "      <th></th>\n",
       "      <th>STATION_ID</th>\n",
       "      <th>STOP_ID</th>\n",
       "      <th>STOP_NAME</th>\n",
       "      <th>BOROUGH</th>\n",
       "      <th>POINT</th>\n",
       "      <th>CIRCLE</th>\n",
       "    </tr>\n",
       "  </thead>\n",
       "  <tbody>\n",
       "    <tr>\n",
       "      <th>0</th>\n",
       "      <td>1</td>\n",
       "      <td>R01</td>\n",
       "      <td>Astoria - Ditmars Blvd</td>\n",
       "      <td>Q</td>\n",
       "      <td>POINT (40.775036 -73.91203399999999)</td>\n",
       "      <td>POLYGON ((40.785036 -73.91203399999999, 40.784...</td>\n",
       "    </tr>\n",
       "    <tr>\n",
       "      <th>1</th>\n",
       "      <td>2</td>\n",
       "      <td>R03</td>\n",
       "      <td>Astoria Blvd</td>\n",
       "      <td>Q</td>\n",
       "      <td>POINT (40.770258 -73.917843)</td>\n",
       "      <td>POLYGON ((40.780258 -73.917843, 40.78020984726...</td>\n",
       "    </tr>\n",
       "    <tr>\n",
       "      <th>2</th>\n",
       "      <td>3</td>\n",
       "      <td>R04</td>\n",
       "      <td>30 Av</td>\n",
       "      <td>Q</td>\n",
       "      <td>POINT (40.766779 -73.92147900000001)</td>\n",
       "      <td>POLYGON ((40.776779 -73.92147900000001, 40.776...</td>\n",
       "    </tr>\n",
       "    <tr>\n",
       "      <th>3</th>\n",
       "      <td>4</td>\n",
       "      <td>R05</td>\n",
       "      <td>Broadway</td>\n",
       "      <td>Q</td>\n",
       "      <td>POINT (40.76182 -73.92550799999999)</td>\n",
       "      <td>POLYGON ((40.77182 -73.92550799999999, 40.7717...</td>\n",
       "    </tr>\n",
       "    <tr>\n",
       "      <th>4</th>\n",
       "      <td>5</td>\n",
       "      <td>R06</td>\n",
       "      <td>36 Av</td>\n",
       "      <td>Q</td>\n",
       "      <td>POINT (40.756804 -73.929575)</td>\n",
       "      <td>POLYGON ((40.76680399999999 -73.929575, 40.766...</td>\n",
       "    </tr>\n",
       "  </tbody>\n",
       "</table>\n",
       "</div>"
      ],
      "text/plain": [
       "   STATION_ID STOP_ID               STOP_NAME BOROUGH  \\\n",
       "0           1     R01  Astoria - Ditmars Blvd       Q   \n",
       "1           2     R03            Astoria Blvd       Q   \n",
       "2           3     R04                   30 Av       Q   \n",
       "3           4     R05                Broadway       Q   \n",
       "4           5     R06                   36 Av       Q   \n",
       "\n",
       "                                  POINT  \\\n",
       "0  POINT (40.775036 -73.91203399999999)   \n",
       "1          POINT (40.770258 -73.917843)   \n",
       "2  POINT (40.766779 -73.92147900000001)   \n",
       "3   POINT (40.76182 -73.92550799999999)   \n",
       "4          POINT (40.756804 -73.929575)   \n",
       "\n",
       "                                              CIRCLE  \n",
       "0  POLYGON ((40.785036 -73.91203399999999, 40.784...  \n",
       "1  POLYGON ((40.780258 -73.917843, 40.78020984726...  \n",
       "2  POLYGON ((40.776779 -73.92147900000001, 40.776...  \n",
       "3  POLYGON ((40.77182 -73.92550799999999, 40.7717...  \n",
       "4  POLYGON ((40.76680399999999 -73.929575, 40.766...  "
      ]
     },
     "execution_count": 8,
     "metadata": {},
     "output_type": "execute_result"
    }
   ],
   "source": [
    "#add a new geometry to geodf_stations of a circle of X miles around each station\n",
    "X = 0.01\n",
    "geodf_stations['CIRCLE'] = geodf_stations.geometry.buffer(X)\n",
    "geodf_stations.geometry.name\n",
    "geodf_stations = geodf_stations.rename(columns={'geometry':'POINT'}).set_geometry('CIRCLE')\n",
    "geodf_stations.geometry.name\n",
    "geodf_stations.info()\n",
    "geodf_stations.head()"
   ]
  },
  {
   "cell_type": "markdown",
   "metadata": {},
   "source": [
    "# LOAD STATIONS FROM TRANSIT DATA"
   ]
  },
  {
   "cell_type": "code",
   "execution_count": 9,
   "metadata": {},
   "outputs": [],
   "source": [
    "col_func = lambda x:x.strip().upper() in ['STATION']"
   ]
  },
  {
   "cell_type": "code",
   "execution_count": 31,
   "metadata": {},
   "outputs": [],
   "source": [
    "#consider exits and entries both or just one of them? and why?\n",
    "file = root + 'transit/all_turnstile_1617.txt'\n",
    "transit_df = pd.read_csv(file,header=0,\n",
    "                         usecols = col_func,skipinitialspace=True, low_memory=False, squeeze=True)"
   ]
  },
  {
   "cell_type": "code",
   "execution_count": 32,
   "metadata": {},
   "outputs": [
    {
     "data": {
      "text/plain": [
       "0    59 ST\n",
       "1    59 ST\n",
       "2    59 ST\n",
       "3    59 ST\n",
       "4    59 ST\n",
       "Name: STATION, dtype: object"
      ]
     },
     "execution_count": 32,
     "metadata": {},
     "output_type": "execute_result"
    }
   ],
   "source": [
    "transit_df.head()"
   ]
  },
  {
   "cell_type": "code",
   "execution_count": 33,
   "metadata": {},
   "outputs": [],
   "source": [
    "transit_df = transit_df.rename(columns=lambda x: x.strip())"
   ]
  },
  {
   "cell_type": "markdown",
   "metadata": {},
   "source": [
    "#read multiple files in a loop into dataframes and then concat them"
   ]
  },
  {
   "cell_type": "code",
   "execution_count": 34,
   "metadata": {},
   "outputs": [],
   "source": [
    "transit_df = transit_df.drop_duplicates()\n",
    "transit_df = transit_df.dropna()"
   ]
  },
  {
   "cell_type": "code",
   "execution_count": 35,
   "metadata": {},
   "outputs": [
    {
     "data": {
      "text/plain": [
       "0                59 ST\n",
       "504         5 AV/59 ST\n",
       "1092        57 ST-7 AV\n",
       "1679             49 ST\n",
       "2603    TIMES SQ-42 ST\n",
       "dtype: object"
      ]
     },
     "execution_count": 35,
     "metadata": {},
     "output_type": "execute_result"
    }
   ],
   "source": [
    "transit_df.head()"
   ]
  },
  {
   "cell_type": "markdown",
   "metadata": {},
   "source": [
    "# FUZZY EXTRACT STATION NAMES FOR TRANSIT DATA"
   ]
  },
  {
   "cell_type": "code",
   "execution_count": 36,
   "metadata": {},
   "outputs": [],
   "source": [
    "stations_fuzz_1 = [process.extractOne(station,geodf_stations.STOP_NAME, scorer=fuzz.ratio) for station in transit_df]\n",
    "stations_fuzz_2 = [process.extractOne(station,geodf_stations.STOP_NAME, scorer=fuzz.partial_ratio) for station in transit_df]\n",
    "stations_fuzz_3 = [process.extractOne(station,geodf_stations.STOP_NAME, scorer=fuzz.token_sort_ratio) for station in transit_df]\n"
   ]
  },
  {
   "cell_type": "code",
   "execution_count": 40,
   "metadata": {},
   "outputs": [],
   "source": [
    "stations_fuzzy = []\n",
    "for station in transit_df:\n",
    "    station_fuzz_1 = process.extractOne(station,geodf_stations.STOP_NAME, scorer=fuzz.ratio)\n",
    "    station_fuzz_2 = process.extractOne(station,geodf_stations.STOP_NAME, scorer=fuzz.partial_ratio)\n",
    "    station_fuzz_3 = process.extractOne(station,geodf_stations.STOP_NAME, scorer=fuzz.token_sort_ratio)\n",
    "    stations = {station_fuzz_1[0]:station_fuzz_1[1],station_fuzz_2[0]:station_fuzz_2[1],station_fuzz_3[0]:station_fuzz_3[1]}\n",
    "    station_max = max(stations.keys(),key=lambda key: stations[key])\n",
    "    if stations[station_max] > 88:\n",
    "        stations_fuzzy.append(station_max)\n",
    "    else:\n",
    "        stations_fuzzy.append(np.nan)"
   ]
  },
  {
   "cell_type": "code",
   "execution_count": 54,
   "metadata": {},
   "outputs": [
    {
     "data": {
      "text/html": [
       "<div>\n",
       "<style scoped>\n",
       "    .dataframe tbody tr th:only-of-type {\n",
       "        vertical-align: middle;\n",
       "    }\n",
       "\n",
       "    .dataframe tbody tr th {\n",
       "        vertical-align: top;\n",
       "    }\n",
       "\n",
       "    .dataframe thead th {\n",
       "        text-align: right;\n",
       "    }\n",
       "</style>\n",
       "<table border=\"1\" class=\"dataframe\">\n",
       "  <thead>\n",
       "    <tr style=\"text-align: right;\">\n",
       "      <th></th>\n",
       "      <th>0</th>\n",
       "      <th>1</th>\n",
       "    </tr>\n",
       "  </thead>\n",
       "  <tbody>\n",
       "    <tr>\n",
       "      <th>0</th>\n",
       "      <td>59 ST</td>\n",
       "      <td>59 St</td>\n",
       "    </tr>\n",
       "    <tr>\n",
       "      <th>1</th>\n",
       "      <td>5 AV/59 ST</td>\n",
       "      <td>5 Av/59 St</td>\n",
       "    </tr>\n",
       "    <tr>\n",
       "      <th>2</th>\n",
       "      <td>57 ST-7 AV</td>\n",
       "      <td>57 St - 7 Av</td>\n",
       "    </tr>\n",
       "    <tr>\n",
       "      <th>3</th>\n",
       "      <td>49 ST</td>\n",
       "      <td>49 St</td>\n",
       "    </tr>\n",
       "    <tr>\n",
       "      <th>4</th>\n",
       "      <td>TIMES SQ-42 ST</td>\n",
       "      <td>Times Sq - 42 St</td>\n",
       "    </tr>\n",
       "    <tr>\n",
       "      <th>5</th>\n",
       "      <td>34 ST-HERALD SQ</td>\n",
       "      <td>34 St - Herald Sq</td>\n",
       "    </tr>\n",
       "    <tr>\n",
       "      <th>6</th>\n",
       "      <td>28 ST</td>\n",
       "      <td>28 St</td>\n",
       "    </tr>\n",
       "    <tr>\n",
       "      <th>7</th>\n",
       "      <td>23 ST</td>\n",
       "      <td>23 St</td>\n",
       "    </tr>\n",
       "    <tr>\n",
       "      <th>8</th>\n",
       "      <td>14 ST-UNION SQ</td>\n",
       "      <td>14 St - Union Sq</td>\n",
       "    </tr>\n",
       "    <tr>\n",
       "      <th>9</th>\n",
       "      <td>8 ST-NYU</td>\n",
       "      <td>8 St - NYU</td>\n",
       "    </tr>\n",
       "    <tr>\n",
       "      <th>10</th>\n",
       "      <td>PRINCE ST</td>\n",
       "      <td>Prince St</td>\n",
       "    </tr>\n",
       "    <tr>\n",
       "      <th>11</th>\n",
       "      <td>CANAL ST</td>\n",
       "      <td>Canal St</td>\n",
       "    </tr>\n",
       "    <tr>\n",
       "      <th>12</th>\n",
       "      <td>CITY HALL</td>\n",
       "      <td>City Hall</td>\n",
       "    </tr>\n",
       "    <tr>\n",
       "      <th>13</th>\n",
       "      <td>CORTLANDT ST</td>\n",
       "      <td>Cortlandt St</td>\n",
       "    </tr>\n",
       "    <tr>\n",
       "      <th>14</th>\n",
       "      <td>RECTOR ST</td>\n",
       "      <td>Rector St</td>\n",
       "    </tr>\n",
       "  </tbody>\n",
       "</table>\n",
       "</div>"
      ],
      "text/plain": [
       "                  0                  1\n",
       "0             59 ST              59 St\n",
       "1        5 AV/59 ST         5 Av/59 St\n",
       "2        57 ST-7 AV       57 St - 7 Av\n",
       "3             49 ST              49 St\n",
       "4    TIMES SQ-42 ST   Times Sq - 42 St\n",
       "5   34 ST-HERALD SQ  34 St - Herald Sq\n",
       "6             28 ST              28 St\n",
       "7             23 ST              23 St\n",
       "8    14 ST-UNION SQ   14 St - Union Sq\n",
       "9          8 ST-NYU         8 St - NYU\n",
       "10        PRINCE ST          Prince St\n",
       "11         CANAL ST           Canal St\n",
       "12        CITY HALL          City Hall\n",
       "13     CORTLANDT ST       Cortlandt St\n",
       "14        RECTOR ST          Rector St"
      ]
     },
     "execution_count": 54,
     "metadata": {},
     "output_type": "execute_result"
    }
   ],
   "source": [
    "st_df = pd.concat([transit_df.reset_index(drop=True),pd.DataFrame(stations_fuzzy,columns=['fuzzy_stop'])],axis=1,ignore_index=True)\n",
    "st_df.head(15)"
   ]
  },
  {
   "cell_type": "markdown",
   "metadata": {},
   "source": [
    "# ADD A COLUMN STATION, IN TURNSTILE FORMAT, TO THE STATIONS GEO DF"
   ]
  },
  {
   "cell_type": "code",
   "execution_count": 53,
   "metadata": {},
   "outputs": [
    {
     "name": "stdout",
     "output_type": "stream",
     "text": [
      "<class 'geopandas.geodataframe.GeoDataFrame'>\n",
      "Int64Index: 538 entries, 0 to 537\n",
      "Data columns (total 7 columns):\n",
      "STATION_ID    538 non-null int64\n",
      "STOP_ID       538 non-null object\n",
      "STOP_NAME     538 non-null object\n",
      "BOROUGH       538 non-null object\n",
      "POINT         538 non-null object\n",
      "CIRCLE        538 non-null object\n",
      "STATION       444 non-null object\n",
      "dtypes: int64(1), object(6)\n",
      "memory usage: 33.6+ KB\n"
     ]
    },
    {
     "data": {
      "text/html": [
       "<div>\n",
       "<style scoped>\n",
       "    .dataframe tbody tr th:only-of-type {\n",
       "        vertical-align: middle;\n",
       "    }\n",
       "\n",
       "    .dataframe tbody tr th {\n",
       "        vertical-align: top;\n",
       "    }\n",
       "\n",
       "    .dataframe thead th {\n",
       "        text-align: right;\n",
       "    }\n",
       "</style>\n",
       "<table border=\"1\" class=\"dataframe\">\n",
       "  <thead>\n",
       "    <tr style=\"text-align: right;\">\n",
       "      <th></th>\n",
       "      <th>STATION_ID</th>\n",
       "      <th>STOP_ID</th>\n",
       "      <th>STOP_NAME</th>\n",
       "      <th>BOROUGH</th>\n",
       "      <th>POINT</th>\n",
       "      <th>CIRCLE</th>\n",
       "      <th>STATION</th>\n",
       "    </tr>\n",
       "  </thead>\n",
       "  <tbody>\n",
       "    <tr>\n",
       "      <th>0</th>\n",
       "      <td>1</td>\n",
       "      <td>R01</td>\n",
       "      <td>Astoria - Ditmars Blvd</td>\n",
       "      <td>Q</td>\n",
       "      <td>POINT (40.775036 -73.91203399999999)</td>\n",
       "      <td>POLYGON ((40.785036 -73.91203399999999, 40.784...</td>\n",
       "      <td>NaN</td>\n",
       "    </tr>\n",
       "    <tr>\n",
       "      <th>1</th>\n",
       "      <td>2</td>\n",
       "      <td>R03</td>\n",
       "      <td>Astoria Blvd</td>\n",
       "      <td>Q</td>\n",
       "      <td>POINT (40.770258 -73.917843)</td>\n",
       "      <td>POLYGON ((40.780258 -73.917843, 40.78020984726...</td>\n",
       "      <td>ASTORIA BLVD</td>\n",
       "    </tr>\n",
       "    <tr>\n",
       "      <th>2</th>\n",
       "      <td>3</td>\n",
       "      <td>R04</td>\n",
       "      <td>30 Av</td>\n",
       "      <td>Q</td>\n",
       "      <td>POINT (40.766779 -73.92147900000001)</td>\n",
       "      <td>POLYGON ((40.776779 -73.92147900000001, 40.776...</td>\n",
       "      <td>30 AV</td>\n",
       "    </tr>\n",
       "    <tr>\n",
       "      <th>3</th>\n",
       "      <td>4</td>\n",
       "      <td>R05</td>\n",
       "      <td>Broadway</td>\n",
       "      <td>Q</td>\n",
       "      <td>POINT (40.76182 -73.92550799999999)</td>\n",
       "      <td>POLYGON ((40.77182 -73.92550799999999, 40.7717...</td>\n",
       "      <td>BROADWAY</td>\n",
       "    </tr>\n",
       "    <tr>\n",
       "      <th>4</th>\n",
       "      <td>5</td>\n",
       "      <td>R06</td>\n",
       "      <td>36 Av</td>\n",
       "      <td>Q</td>\n",
       "      <td>POINT (40.756804 -73.929575)</td>\n",
       "      <td>POLYGON ((40.76680399999999 -73.929575, 40.766...</td>\n",
       "      <td>36 AV</td>\n",
       "    </tr>\n",
       "  </tbody>\n",
       "</table>\n",
       "</div>"
      ],
      "text/plain": [
       "   STATION_ID STOP_ID               STOP_NAME BOROUGH  \\\n",
       "0           1     R01  Astoria - Ditmars Blvd       Q   \n",
       "1           2     R03            Astoria Blvd       Q   \n",
       "2           3     R04                   30 Av       Q   \n",
       "3           4     R05                Broadway       Q   \n",
       "4           5     R06                   36 Av       Q   \n",
       "\n",
       "                                  POINT  \\\n",
       "0  POINT (40.775036 -73.91203399999999)   \n",
       "1          POINT (40.770258 -73.917843)   \n",
       "2  POINT (40.766779 -73.92147900000001)   \n",
       "3   POINT (40.76182 -73.92550799999999)   \n",
       "4          POINT (40.756804 -73.929575)   \n",
       "\n",
       "                                              CIRCLE       STATION  \n",
       "0  POLYGON ((40.785036 -73.91203399999999, 40.784...           NaN  \n",
       "1  POLYGON ((40.780258 -73.917843, 40.78020984726...  ASTORIA BLVD  \n",
       "2  POLYGON ((40.776779 -73.92147900000001, 40.776...         30 AV  \n",
       "3  POLYGON ((40.77182 -73.92550799999999, 40.7717...      BROADWAY  \n",
       "4  POLYGON ((40.76680399999999 -73.929575, 40.766...         36 AV  "
      ]
     },
     "execution_count": 53,
     "metadata": {},
     "output_type": "execute_result"
    }
   ],
   "source": [
    "geodf_stations_merged = pd.merge(geodf_stations,st_df.dropna(),how='left',left_on='STOP_NAME',right_on=1)\n",
    "geodf_stations_merged = geodf_stations_merged.drop(columns=[1]).rename(columns={0:'STATION'})\n",
    "geodf_stations_merged.info()\n",
    "geodf_stations_merged.head()"
   ]
  },
  {
   "cell_type": "code",
   "execution_count": 60,
   "metadata": {},
   "outputs": [],
   "source": [
    "geodf_stations_merged.drop(columns=['POINT']).to_file(root+'transit/Stations_geomerged.geojson',driver='GeoJSON')"
   ]
  },
  {
   "cell_type": "code",
   "execution_count": null,
   "metadata": {},
   "outputs": [],
   "source": []
  }
 ],
 "metadata": {
  "kernelspec": {
   "display_name": "Python 3",
   "language": "python",
   "name": "python3"
  },
  "language_info": {
   "codemirror_mode": {
    "name": "ipython",
    "version": 3
   },
   "file_extension": ".py",
   "mimetype": "text/x-python",
   "name": "python",
   "nbconvert_exporter": "python",
   "pygments_lexer": "ipython3",
   "version": "3.6.5"
  }
 },
 "nbformat": 4,
 "nbformat_minor": 2
}
